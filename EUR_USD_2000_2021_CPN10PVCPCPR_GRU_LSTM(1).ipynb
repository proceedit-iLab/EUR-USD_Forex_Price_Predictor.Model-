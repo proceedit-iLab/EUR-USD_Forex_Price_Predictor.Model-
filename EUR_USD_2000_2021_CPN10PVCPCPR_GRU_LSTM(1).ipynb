{
  "nbformat": 4,
  "nbformat_minor": 0,
  "metadata": {
    "colab": {
      "name": "EUR-USD_2000-2021_CPN10PVCPCPR_GRU-LSTM.ipynb",
      "provenance": []
    },
    "kernelspec": {
      "name": "python3",
      "display_name": "Python 3"
    },
    "language_info": {
      "name": "python"
    },
    "accelerator": "GPU"
  },
  "cells": [
    {
      "cell_type": "code",
      "metadata": {
        "id": "01TQOeK5gjgb"
      },
      "source": [
        "import os \n",
        "from google.colab import drive"
      ],
      "execution_count": 2,
      "outputs": []
    },
    {
      "cell_type": "code",
      "metadata": {
        "colab": {
          "base_uri": "https://localhost:8080/"
        },
        "id": "gAY_l_XfqoN8",
        "outputId": "08a7c4b2-20ba-4dad-c727-2e5ad3b3e7c3"
      },
      "source": [
        "!pip install tsmoothie"
      ],
      "execution_count": 3,
      "outputs": [
        {
          "output_type": "stream",
          "name": "stdout",
          "text": [
            "Collecting tsmoothie\n",
            "  Downloading tsmoothie-1.0.4-py3-none-any.whl (21 kB)\n",
            "Requirement already satisfied: numpy in /usr/local/lib/python3.7/dist-packages (from tsmoothie) (1.19.5)\n",
            "Collecting simdkalman\n",
            "  Downloading simdkalman-1.0.2-py2.py3-none-any.whl (11 kB)\n",
            "Requirement already satisfied: scipy in /usr/local/lib/python3.7/dist-packages (from tsmoothie) (1.4.1)\n",
            "Installing collected packages: simdkalman, tsmoothie\n",
            "Successfully installed simdkalman-1.0.2 tsmoothie-1.0.4\n"
          ]
        }
      ]
    },
    {
      "cell_type": "code",
      "metadata": {
        "id": "GouJdy_tqp0P"
      },
      "source": [
        "import numpy as np\n",
        "import numpy as np\n",
        "import pandas as pd \n",
        "import matplotlib.pyplot as plt\n",
        "import tensorflow as tf\n",
        "import tsmoothie\n",
        "from tensorflow.keras.models import Sequential,load_model\n",
        "from tensorflow.keras.layers import Dense\n",
        "from tensorflow.keras.layers import Bidirectional\n",
        "from tensorflow.keras.layers import Dropout\n",
        "from sklearn.decomposition import PCA\n",
        "from tensorflow.keras import optimizers\n",
        "from sklearn.preprocessing import MinMaxScaler\n",
        "import sklearn\n",
        "from sklearn.metrics import mean_squared_error,r2_score\n",
        "%matplotlib inline"
      ],
      "execution_count": 4,
      "outputs": []
    },
    {
      "cell_type": "code",
      "metadata": {
        "id": "SaAhmUUGqyNw"
      },
      "source": [
        "#LSTM=tf.compat.v1.keras.layers.CuDNNLSTM \n",
        "LSTM = tf.compat.v1.keras.layers.LSTM\n",
        "GRU = tf.compat.v1.keras.layers.GRU\n",
        "#GRU = tf.compat.v1.keras.layers.CuDNNGRU\n",
        "a=tf.compat.v1.keras.layers.CuDNNLSTM\n",
        "smoother=tsmoothie.KalmanSmoother(component='level_trend',  component_noise={'level':0.1, 'trend':0.1})"
      ],
      "execution_count": 5,
      "outputs": []
    },
    {
      "cell_type": "code",
      "metadata": {
        "id": "4dxX3HWdq-Kk"
      },
      "source": [
        "data_path = \"proceedit 20211012 iLab - EUR-USD_2000-2021_CPN10PVCPCPR_GRU-LSTM.csv\""
      ],
      "execution_count": 6,
      "outputs": []
    },
    {
      "cell_type": "code",
      "metadata": {
        "colab": {
          "base_uri": "https://localhost:8080/"
        },
        "id": "RzZ8oALorMW7",
        "outputId": "dc9f7d15-c498-4a79-f98c-283c8ccf01bd"
      },
      "source": [
        "# loading data\n",
        "\n",
        "data_1=pd.read_csv(data_path)\n",
        "data_1 = data_1.dropna()\n",
        "print(data_1.columns)\n",
        "data=data_1[['Open','High','Low','Close','Momentum','Average','Range','OHLC Price']]\n",
        "dates=data_1[['Date']]\n",
        "\n",
        "# normalising data\n",
        "\n",
        "Open=MinMaxScaler()\n",
        "High=MinMaxScaler()\n",
        "Low=MinMaxScaler()\n",
        "Close=MinMaxScaler()\n",
        "Volume=MinMaxScaler()\n",
        "Lowest=MinMaxScaler()\n",
        "\n",
        "dataaa=np.zeros((data.shape),dtype=np.float64)\n",
        "a=Open.fit_transform(data[['Open']])\n",
        "dataaa[:,0] = a[:,0]\n",
        "a=High.fit_transform(data[['High']])\n",
        "dataaa[:,1] = a[:,0]\n",
        "a=Low.fit_transform(data[['Low']])\n",
        "dataaa[:,2] = a[:,0]\n",
        "a=Close.fit_transform(data[['Close']])\n",
        "dataaa[:,3] = a[:,0]\n",
        "a=Volume.fit_transform(data[['Momentum']])\n",
        "dataaa[:,4] = a[:,0]\n",
        "a=Lowest.fit_transform(data[['Average']])\n",
        "dataaa[:,5] = a[:,0]\n",
        "a=Open.fit_transform(data[['Average']])\n",
        "dataaa[:,6] = a[:,0]\n",
        "a=Open.fit_transform(data[['Range']])\n",
        "dataaa[:,7] = a[:,0]\n",
        "a=Open.fit_transform(data[['OHLC Price']])\n",
        "dataaa[:,7] = a[:,0]\n",
        "a=dataaa[:,0]\n",
        "smoother.smooth(a)\n",
        "dataaa[:,0]=smoother.smooth_data\n",
        "\n",
        "a=dataaa[:,1]\n",
        "smoother.smooth(a)\n",
        "dataaa[:,1]=smoother.smooth_data\n",
        "\n",
        "a=dataaa[:,2]\n",
        "smoother.smooth(a)\n",
        "dataaa[:,2]=smoother.smooth_data\n",
        "\n",
        "a=dataaa[:,3]\n",
        "smoother.smooth(a)\n",
        "dataaa[:,3]=smoother.smooth_data\n",
        "\n",
        "a=dataaa[:,4]\n",
        "smoother.smooth(a)\n",
        "dataaa[:,4]=smoother.smooth_data\n",
        "\n",
        "a=dataaa[:,5]\n",
        "smoother.smooth(a)\n",
        "dataaa[:,5]=smoother.smooth_data\n",
        "\n",
        "a=dataaa[:,6]\n",
        "smoother.smooth(a)\n",
        "dataaa[:,6]=smoother.smooth_data\n",
        "\n",
        "a=dataaa[:,7]\n",
        "smoother.smooth(a)\n",
        "dataaa[:,7]=smoother.smooth_data\n",
        "\n",
        "\n",
        "full_data=dataaa\n",
        "\n",
        "# finding total number of days\n",
        "\n",
        "data=dataaa\n",
        "\n",
        "\n",
        "total_days=data.shape[0]\n",
        "print(total_days)"
      ],
      "execution_count": 7,
      "outputs": [
        {
          "output_type": "stream",
          "name": "stdout",
          "text": [
            "Index(['Date', 'Open', 'High', 'Low', 'Close', 'Adj Close', 'Momentum',\n",
            "       'Average', 'Range', 'OHLC Price'],\n",
            "      dtype='object')\n",
            "4603\n"
          ]
        }
      ]
    },
    {
      "cell_type": "code",
      "metadata": {
        "id": "c0BLhC-3tHjc"
      },
      "source": [
        "training_period_dates=dates.loc[:int(full_data.shape[0]*1)]\n",
        "#testing_period_dates=dates.loc[int(full_data.shape[0]*0.9):]"
      ],
      "execution_count": 8,
      "outputs": []
    },
    {
      "cell_type": "code",
      "metadata": {
        "colab": {
          "base_uri": "https://localhost:8080/"
        },
        "id": "t9q5UB4fGbUM",
        "outputId": "e07274f3-eeb9-4746-c13f-7e99c06a9d8c"
      },
      "source": [
        "total_days=data.shape[0]\n",
        "\n",
        "timesteps=10\n",
        "\n",
        "Train_data=data[:round(total_days*1),:]\n",
        "#Test_data=data[round(total_days*0.9):,:]\n",
        "print(Train_data.shape[0],\" Days are used for Training\")\n",
        "#print(Test_data.shape[0],\" Days are used for Testing\")\n",
        "# Function for ordering or making sequence of our test and train data according to date\n",
        "def make_sequence(data,timesteps):\n",
        "    X_train=[]\n",
        "    Y_train=[]\n",
        "    for i in range(len(data)-timesteps):\n",
        "        X_train.append(data[i:(i+timesteps),[0,1,2,4,5,6,7]])\n",
        "        Y_train.append(data[i+timesteps,3])\n",
        "    return X_train,Y_train\n",
        "Train_data,Train_Label=make_sequence(Train_data,timesteps)\n",
        "Train_data,Train_Label=np.array(Train_data),np.array(Train_Label)\n",
        "#Test_data,Test_Label=make_sequence(Test_data,timesteps)\n",
        "#Test_data,Test_Label=np.array(Test_data),np.array(Test_Label)\n",
        "input_shape=((Train_data).shape[1],(Train_data).shape[2])\n",
        "print(input_shape)\n",
        "Train_Label = Train_Label.reshape(-1,1)\n"
      ],
      "execution_count": 9,
      "outputs": [
        {
          "output_type": "stream",
          "name": "stdout",
          "text": [
            "4603  Days are used for Training\n",
            "(10, 7)\n"
          ]
        }
      ]
    },
    {
      "cell_type": "code",
      "metadata": {
        "colab": {
          "base_uri": "https://localhost:8080/"
        },
        "id": "BK1i_pLvtTeP",
        "outputId": "014d83fb-2d63-4076-c32a-309e66af8dae"
      },
      "source": [
        "#model building\n",
        "model=Sequential()\n",
        "\n",
        "#adding layers to the model\n",
        "model.add(GRU(20,input_shape=input_shape,return_sequences=True))\n",
        "model.add(LSTM(256,return_sequences = True))\n",
        "model.add(LSTM(64))\n",
        "model.add(Dense(64))\n",
        "model.add(Dense(1))\n",
        "\n",
        "print(model.summary())"
      ],
      "execution_count": 16,
      "outputs": [
        {
          "output_type": "stream",
          "name": "stdout",
          "text": [
            "Model: \"sequential_9\"\n",
            "_________________________________________________________________\n",
            "Layer (type)                 Output Shape              Param #   \n",
            "=================================================================\n",
            "gru_7 (GRU)                  (None, 10, 20)            1680      \n",
            "_________________________________________________________________\n",
            "lstm_14 (LSTM)               (None, 10, 256)           283648    \n",
            "_________________________________________________________________\n",
            "lstm_15 (LSTM)               (None, 64)                82176     \n",
            "_________________________________________________________________\n",
            "dense_18 (Dense)             (None, 64)                4160      \n",
            "_________________________________________________________________\n",
            "dense_19 (Dense)             (None, 1)                 65        \n",
            "=================================================================\n",
            "Total params: 371,729\n",
            "Trainable params: 371,729\n",
            "Non-trainable params: 0\n",
            "_________________________________________________________________\n",
            "None\n"
          ]
        }
      ]
    },
    {
      "cell_type": "code",
      "metadata": {
        "colab": {
          "base_uri": "https://localhost:8080/"
        },
        "id": "35X9wJfR1-d4",
        "outputId": "f49f0de6-16ff-4fbe-a090-dc7a4d07bfc3"
      },
      "source": [
        "\n",
        "#compiling model\n",
        "lr=1e-3\n",
        "model.compile(optimizer = optimizers.Adam(learning_rate= lr), loss = 'mean_squared_error')\n",
        "\n",
        "#fitting model\n",
        "history=model.fit(Train_data,Train_Label,batch_size=36,epochs=60)"
      ],
      "execution_count": 17,
      "outputs": [
        {
          "output_type": "stream",
          "name": "stdout",
          "text": [
            "Epoch 1/60\n",
            "128/128 [==============================] - 14s 67ms/step - loss: 0.0039\n",
            "Epoch 2/60\n",
            "128/128 [==============================] - 9s 67ms/step - loss: 4.8198e-04\n",
            "Epoch 3/60\n",
            "128/128 [==============================] - 9s 68ms/step - loss: 4.1844e-04\n",
            "Epoch 4/60\n",
            "128/128 [==============================] - 9s 68ms/step - loss: 4.1596e-04\n",
            "Epoch 5/60\n",
            "128/128 [==============================] - 9s 67ms/step - loss: 2.4331e-04\n",
            "Epoch 6/60\n",
            "128/128 [==============================] - 9s 68ms/step - loss: 1.9086e-04\n",
            "Epoch 7/60\n",
            "128/128 [==============================] - 9s 68ms/step - loss: 1.8562e-04\n",
            "Epoch 8/60\n",
            "128/128 [==============================] - 9s 67ms/step - loss: 1.3219e-04\n",
            "Epoch 9/60\n",
            "128/128 [==============================] - 9s 67ms/step - loss: 1.2021e-04\n",
            "Epoch 10/60\n",
            "128/128 [==============================] - 9s 67ms/step - loss: 1.1121e-04\n",
            "Epoch 11/60\n",
            "128/128 [==============================] - 9s 67ms/step - loss: 9.0183e-05\n",
            "Epoch 12/60\n",
            "128/128 [==============================] - 9s 67ms/step - loss: 1.2010e-04\n",
            "Epoch 13/60\n",
            "128/128 [==============================] - 9s 69ms/step - loss: 7.6009e-05\n",
            "Epoch 14/60\n",
            "128/128 [==============================] - 9s 68ms/step - loss: 5.0464e-05\n",
            "Epoch 15/60\n",
            "128/128 [==============================] - 9s 68ms/step - loss: 5.3369e-05\n",
            "Epoch 16/60\n",
            "128/128 [==============================] - 9s 69ms/step - loss: 4.6063e-05\n",
            "Epoch 17/60\n",
            "128/128 [==============================] - 9s 68ms/step - loss: 4.6734e-05\n",
            "Epoch 18/60\n",
            "128/128 [==============================] - 9s 68ms/step - loss: 3.8832e-05\n",
            "Epoch 19/60\n",
            "128/128 [==============================] - 9s 68ms/step - loss: 3.4772e-05\n",
            "Epoch 20/60\n",
            "128/128 [==============================] - 9s 68ms/step - loss: 2.8582e-05\n",
            "Epoch 21/60\n",
            "128/128 [==============================] - 9s 68ms/step - loss: 5.9845e-05\n",
            "Epoch 22/60\n",
            "128/128 [==============================] - 9s 68ms/step - loss: 2.7413e-05\n",
            "Epoch 23/60\n",
            "128/128 [==============================] - 9s 68ms/step - loss: 2.8647e-05\n",
            "Epoch 24/60\n",
            "128/128 [==============================] - 9s 68ms/step - loss: 2.3315e-05\n",
            "Epoch 25/60\n",
            "128/128 [==============================] - 9s 68ms/step - loss: 2.1850e-05\n",
            "Epoch 26/60\n",
            "128/128 [==============================] - 9s 69ms/step - loss: 4.4165e-05\n",
            "Epoch 27/60\n",
            "128/128 [==============================] - 9s 69ms/step - loss: 2.7915e-05\n",
            "Epoch 28/60\n",
            "128/128 [==============================] - 9s 68ms/step - loss: 2.6104e-05\n",
            "Epoch 29/60\n",
            "128/128 [==============================] - 9s 69ms/step - loss: 2.0552e-05\n",
            "Epoch 30/60\n",
            "128/128 [==============================] - 9s 67ms/step - loss: 2.1634e-05\n",
            "Epoch 31/60\n",
            "128/128 [==============================] - 9s 68ms/step - loss: 1.5085e-05\n",
            "Epoch 32/60\n",
            "128/128 [==============================] - 9s 68ms/step - loss: 2.1829e-05\n",
            "Epoch 33/60\n",
            "128/128 [==============================] - 9s 68ms/step - loss: 3.1068e-05\n",
            "Epoch 34/60\n",
            "128/128 [==============================] - 9s 68ms/step - loss: 1.8864e-05\n",
            "Epoch 35/60\n",
            "128/128 [==============================] - 9s 68ms/step - loss: 1.6962e-05\n",
            "Epoch 36/60\n",
            "128/128 [==============================] - 9s 68ms/step - loss: 2.9899e-05\n",
            "Epoch 37/60\n",
            "128/128 [==============================] - 9s 68ms/step - loss: 1.8837e-05\n",
            "Epoch 38/60\n",
            "128/128 [==============================] - 9s 69ms/step - loss: 1.1489e-05\n",
            "Epoch 39/60\n",
            "128/128 [==============================] - 9s 68ms/step - loss: 1.8106e-05\n",
            "Epoch 40/60\n",
            "128/128 [==============================] - 9s 68ms/step - loss: 2.2291e-05\n",
            "Epoch 41/60\n",
            "128/128 [==============================] - 9s 68ms/step - loss: 2.5024e-05\n",
            "Epoch 42/60\n",
            "128/128 [==============================] - 9s 68ms/step - loss: 2.5542e-05\n",
            "Epoch 43/60\n",
            "128/128 [==============================] - 9s 68ms/step - loss: 3.0904e-05\n",
            "Epoch 44/60\n",
            "128/128 [==============================] - 9s 68ms/step - loss: 3.0974e-05\n",
            "Epoch 45/60\n",
            "128/128 [==============================] - 9s 68ms/step - loss: 1.4768e-05\n",
            "Epoch 46/60\n",
            "128/128 [==============================] - 9s 68ms/step - loss: 1.2399e-05\n",
            "Epoch 47/60\n",
            "128/128 [==============================] - 9s 68ms/step - loss: 1.6400e-05\n",
            "Epoch 48/60\n",
            "128/128 [==============================] - 9s 69ms/step - loss: 2.5021e-05\n",
            "Epoch 49/60\n",
            "128/128 [==============================] - 9s 69ms/step - loss: 1.7011e-05\n",
            "Epoch 50/60\n",
            "128/128 [==============================] - 9s 68ms/step - loss: 1.0636e-05\n",
            "Epoch 51/60\n",
            "128/128 [==============================] - 9s 68ms/step - loss: 2.4726e-05\n",
            "Epoch 52/60\n",
            "128/128 [==============================] - 9s 68ms/step - loss: 1.4492e-05\n",
            "Epoch 53/60\n",
            "128/128 [==============================] - 9s 68ms/step - loss: 1.1899e-05\n",
            "Epoch 54/60\n",
            "128/128 [==============================] - 9s 68ms/step - loss: 1.5008e-05\n",
            "Epoch 55/60\n",
            "128/128 [==============================] - 9s 68ms/step - loss: 1.3289e-05\n",
            "Epoch 56/60\n",
            "128/128 [==============================] - 9s 68ms/step - loss: 1.0475e-05\n",
            "Epoch 57/60\n",
            "128/128 [==============================] - 9s 68ms/step - loss: 3.2434e-05\n",
            "Epoch 58/60\n",
            "128/128 [==============================] - 9s 68ms/step - loss: 1.2451e-05\n",
            "Epoch 59/60\n",
            "128/128 [==============================] - 9s 69ms/step - loss: 1.3027e-05\n",
            "Epoch 60/60\n",
            "128/128 [==============================] - 9s 68ms/step - loss: 1.8774e-05\n"
          ]
        }
      ]
    },
    {
      "cell_type": "code",
      "metadata": {
        "id": "U84ctHmzuHVY",
        "colab": {
          "base_uri": "https://localhost:8080/",
          "height": 193
        },
        "outputId": "3c4c1d29-641f-40b5-8b4b-104d9e159cea"
      },
      "source": [
        "testing_period_dates=testing_period_dates[10:]\n",
        "a=testing_period_dates['Date'].loc[:]"
      ],
      "execution_count": 24,
      "outputs": [
        {
          "output_type": "error",
          "ename": "NameError",
          "evalue": "ignored",
          "traceback": [
            "\u001b[0;31m---------------------------------------------------------------------------\u001b[0m",
            "\u001b[0;31mNameError\u001b[0m                                 Traceback (most recent call last)",
            "\u001b[0;32m<ipython-input-24-e8c27742848c>\u001b[0m in \u001b[0;36m<module>\u001b[0;34m()\u001b[0m\n\u001b[0;32m----> 1\u001b[0;31m \u001b[0mtesting_period_dates\u001b[0m\u001b[0;34m=\u001b[0m\u001b[0mtesting_period_dates\u001b[0m\u001b[0;34m[\u001b[0m\u001b[0;36m10\u001b[0m\u001b[0;34m:\u001b[0m\u001b[0;34m]\u001b[0m\u001b[0;34m\u001b[0m\u001b[0;34m\u001b[0m\u001b[0m\n\u001b[0m\u001b[1;32m      2\u001b[0m \u001b[0ma\u001b[0m\u001b[0;34m=\u001b[0m\u001b[0mtesting_period_dates\u001b[0m\u001b[0;34m[\u001b[0m\u001b[0;34m'Date'\u001b[0m\u001b[0;34m]\u001b[0m\u001b[0;34m.\u001b[0m\u001b[0mloc\u001b[0m\u001b[0;34m[\u001b[0m\u001b[0;34m:\u001b[0m\u001b[0;34m]\u001b[0m\u001b[0;34m\u001b[0m\u001b[0;34m\u001b[0m\u001b[0m\n",
            "\u001b[0;31mNameError\u001b[0m: name 'testing_period_dates' is not defined"
          ]
        }
      ]
    },
    {
      "cell_type": "code",
      "metadata": {
        "colab": {
          "base_uri": "https://localhost:8080/"
        },
        "id": "-0ewV18SuMkj",
        "outputId": "97f7a8d8-6976-44b8-b8ce-aa374b4089ac"
      },
      "source": [
        "#predicting values from our model of test data\n",
        "Test_Predicted_Label=model.predict(Train_data)\n",
        "print(Test_Predicted_Label.shape)\n",
        "print(Test_Predicted_Label)\n",
        "Test_Label = Train_Label.reshape(Train_Label.shape[0],1)\n",
        "y_hat_test = Close.inverse_transform(Test_Predicted_Label)\n",
        "#y_test = Close.inverse_transform(Test_Label)\n",
        "np.savetxt(\"predicted.csv\", y_hat_test, delimiter=\",\")\n",
        "#calculating and printing mean square error"
      ],
      "execution_count": 19,
      "outputs": [
        {
          "output_type": "stream",
          "name": "stdout",
          "text": [
            "(4593, 1)\n",
            "[[0.34392822]\n",
            " [0.34930035]\n",
            " [0.35225567]\n",
            " ...\n",
            " [0.23487885]\n",
            " [0.23384579]\n",
            " [0.2318861 ]]\n"
          ]
        }
      ]
    },
    {
      "cell_type": "code",
      "metadata": {
        "id": "MrG65DAduR6R"
      },
      "source": [
        "# plotting actual vs predicted values price\n",
        "plt.style.use('default')\n",
        "plt.figure(figsize=(13,4))\n",
        "plt.plot(y_test,c = 'r')\n",
        "plt.plot(y_hat_test,c = 'y')\n",
        "plt.xticks(range(0,a.shape[0],100),a.loc[::100],rotation=45)\n",
        "plt.xlabel('Date')\n",
        "plt.ylabel('Price')\n",
        "plt.title('proceedit 20210122 - SPP - Case 2-Stock Prediction Graph using Multivariate-LSTM model')\n",
        "plt.legend(['Actual','Predicted'],loc = 'lower right')"
      ],
      "execution_count": null,
      "outputs": []
    },
    {
      "cell_type": "code",
      "metadata": {
        "id": "CV3P7nwIuXZg"
      },
      "source": [
        "# plotting offset by date\n",
        "plt.style.use('default')\n",
        "\n",
        "plt.figure(figsize=(15,5))\n",
        "plt.plot((y_test-y_hat_test))\n",
        "plt.xticks(range(0,a.shape[0],100),a.loc[::100],rotation=45)\n",
        "plt.grid(True)\n",
        "\n",
        "plt.xlabel('Date')\n",
        "plt.ylabel('Offset')\n",
        "plt.rc('axes', titlesize=20) \n",
        "plt.rc('axes', labelsize=15)\n",
        "plt.rc('xtick', labelsize=15)    # fontsize of the tick labels\n",
        "plt.rc('ytick', labelsize=15)    # fontsize of the tick labels\n",
        "plt.rc('legend', fontsize=13)    # legend fontsize\n",
        "plt.title('proceedit 20210122 - SPP - Case 2- Offset=(Predicted-Actual)/Actual vs Days')"
      ],
      "execution_count": null,
      "outputs": []
    },
    {
      "cell_type": "code",
      "metadata": {
        "id": "cRtYHmwpueHV"
      },
      "source": [
        "# plotting ratio of Predicted vs Actual Price\n",
        "plt.style.use('default')\n",
        "plt.figure(figsize=(15,5))\n",
        "plt.plot((y_test/y_hat_test))\n",
        "plt.xticks(range(0,a.shape[0],100),a.loc[::100],rotation=45)\n",
        "plt.grid(True)\n",
        "plt.xlabel('Date')\n",
        "plt.ylabel('Ratio of Predicted and Actual Price')\n",
        "plt.rc('axes', titlesize=20) \n",
        "plt.rc('axes', labelsize=15)\n",
        "plt.rc('xtick', labelsize=15)    # fontsize of the tick labels\n",
        "plt.rc('ytick', labelsize=15)    # fontsize of the tick labels\n",
        "plt.rc('legend', fontsize=13)    # legend fontsize\n",
        "plt.title('proceedit 20210122 - SPP - Case 2- Ratio of Predicted and Actual Price vs Days')\n",
        "plt.style.use('default')"
      ],
      "execution_count": null,
      "outputs": []
    },
    {
      "cell_type": "code",
      "metadata": {
        "id": "ehNIEnnIug_s"
      },
      "source": [
        "# plotting actual close price vs the ratio between predicted and actual price\n",
        "plt.figure(figsize=(10,5))\n",
        "\n",
        "plt.scatter(y_test,y_hat_test/y_test)\n",
        "m, b = np.polyfit(y_test[:,0],y_hat_test/y_test[:,0], 1)\n",
        "plt.title('proceedit 20210116- SPP - Case 2 - x representing the Actual Close prices and in y the ratio between Predicted and Actual price')\n",
        "plt.plot(y_test[:,0], m*y_test[:,0]+ b,color='red')\n",
        "plt.xlabel('True Price')\n",
        "plt.ylabel('Predicted Price')\n",
        "plt.grid(True)\n",
        "r2=r2_score(y_test,y_hat_test)\n",
        "print(\"R2 Score is \",r2)"
      ],
      "execution_count": null,
      "outputs": []
    },
    {
      "cell_type": "code",
      "metadata": {
        "id": "fuRsNbo5ukX0"
      },
      "source": [
        "# predicted values from model\n",
        "Train_Predicted_Label=model.predict(Train_data)\n",
        "Train_Test_Label=Train_Label.reshape(Train_Label.shape[0],1)\n",
        "\n",
        "# inverse transformation\n",
        "Train_y_hat=Lowest.inverse_transform(Train_Predicted_Label)\n",
        "Train_y=Lowest.inverse_transform(Train_Test_Label)"
      ],
      "execution_count": null,
      "outputs": []
    },
    {
      "cell_type": "code",
      "metadata": {
        "id": "w6FLJ5UcuoaP"
      },
      "source": [
        "mse=mean_squared_error(Train_y,Train_y_hat)\n",
        "print(mse)"
      ],
      "execution_count": null,
      "outputs": []
    },
    {
      "cell_type": "code",
      "metadata": {
        "id": "2l15f0Rauq_g"
      },
      "source": [
        "# calculating ratio and printing\n",
        "ratio_mean_Train=np.mean(Train_y_hat/Train_y)\n",
        "ratio_std_Train=np.std(Train_y_hat/Train_y)"
      ],
      "execution_count": null,
      "outputs": []
    },
    {
      "cell_type": "code",
      "metadata": {
        "id": "3tgcBdZsuvQ3"
      },
      "source": [
        "model.save(path+'S&P500_OHLCVM_model.h5')"
      ],
      "execution_count": null,
      "outputs": []
    },
    {
      "cell_type": "code",
      "metadata": {
        "id": "uHHVtlyWuv3I"
      },
      "source": [
        "os.listdir(path)\n",
        "print(path)\n",
        "# saving our predicted values in .csv file\n",
        "np.savetxt(path+'train_OHLCVM_10_2.csv',Train_y_hat)\n",
        "np.savetxt(path+'test_OHLCVM_10_2.csv',y_hat_test)"
      ],
      "execution_count": null,
      "outputs": []
    },
    {
      "cell_type": "code",
      "metadata": {
        "id": "JmGMWg6nu0eC"
      },
      "source": [
        "# saving our predicted values in .csv file\n",
        "np.savetxt(path+'train_OHLCVM_10_2.csv',Train_y_hat)\n",
        "np.savetxt(path+'test_OHLCVM_10_2.csv',y_hat_test)"
      ],
      "execution_count": null,
      "outputs": []
    }
  ]
}