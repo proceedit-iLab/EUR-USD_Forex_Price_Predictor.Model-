{
  "nbformat": 4,
  "nbformat_minor": 0,
  "metadata": {
    "colab": {
      "name": "EUR-USD_2000-2021_CPN10PVCPCPR_GRU-LSTM.ipynb",
      "provenance": []
    },
    "kernelspec": {
      "name": "python3",
      "display_name": "Python 3"
    },
    "language_info": {
      "name": "python"
    },
    "accelerator": "GPU"
  },
  "cells": [
    {
      "cell_type": "code",
      "metadata": {
        "id": "01TQOeK5gjgb"
      },
      "source": [
        "import os \n",
        "from google.colab import drive"
      ],
      "execution_count": 10,
      "outputs": []
    },
    {
      "cell_type": "code",
      "metadata": {
        "colab": {
          "base_uri": "https://localhost:8080/"
        },
        "id": "gAY_l_XfqoN8",
        "outputId": "a21e6ec1-83d7-4c38-9dbd-156e2b02dbe8"
      },
      "source": [
        "!pip install tsmoothie"
      ],
      "execution_count": 11,
      "outputs": [
        {
          "output_type": "stream",
          "name": "stdout",
          "text": [
            "Requirement already satisfied: tsmoothie in /usr/local/lib/python3.7/dist-packages (1.0.4)\n",
            "Requirement already satisfied: numpy in /usr/local/lib/python3.7/dist-packages (from tsmoothie) (1.19.5)\n",
            "Requirement already satisfied: simdkalman in /usr/local/lib/python3.7/dist-packages (from tsmoothie) (1.0.2)\n",
            "Requirement already satisfied: scipy in /usr/local/lib/python3.7/dist-packages (from tsmoothie) (1.4.1)\n"
          ]
        }
      ]
    },
    {
      "cell_type": "code",
      "metadata": {
        "id": "GouJdy_tqp0P"
      },
      "source": [
        "import numpy as np\n",
        "import numpy as np\n",
        "import pandas as pd \n",
        "import matplotlib.pyplot as plt\n",
        "import tensorflow as tf\n",
        "import tsmoothie\n",
        "from tensorflow.keras.models import Sequential,load_model\n",
        "from tensorflow.keras.layers import Dense\n",
        "from tensorflow.keras.layers import Bidirectional\n",
        "from tensorflow.keras.layers import Dropout\n",
        "from sklearn.decomposition import PCA\n",
        "from tensorflow.keras import optimizers\n",
        "from sklearn.preprocessing import MinMaxScaler\n",
        "import sklearn\n",
        "from sklearn.metrics import mean_squared_error,r2_score\n",
        "%matplotlib inline"
      ],
      "execution_count": 12,
      "outputs": []
    },
    {
      "cell_type": "code",
      "metadata": {
        "id": "SaAhmUUGqyNw"
      },
      "source": [
        "#LSTM=tf.compat.v1.keras.layers.CuDNNLSTM \n",
        "LSTM = tf.compat.v1.keras.layers.LSTM\n",
        "GRU = tf.compat.v1.keras.layers.GRU\n",
        "#GRU = tf.compat.v1.keras.layers.CuDNNGRU\n",
        "a=tf.compat.v1.keras.layers.CuDNNLSTM\n",
        "smoother=tsmoothie.KalmanSmoother(component='level_trend',  component_noise={'level':0.1, 'trend':0.1})"
      ],
      "execution_count": 13,
      "outputs": []
    },
    {
      "cell_type": "code",
      "metadata": {
        "id": "4dxX3HWdq-Kk"
      },
      "source": [
        "data_path = \"EURUSD=X - EURUSD=X.csv\""
      ],
      "execution_count": 14,
      "outputs": []
    },
    {
      "cell_type": "code",
      "metadata": {
        "colab": {
          "base_uri": "https://localhost:8080/"
        },
        "id": "RzZ8oALorMW7",
        "outputId": "95ff2474-ed31-435a-e3a2-aa1a49536319"
      },
      "source": [
        "# loading data\n",
        "\n",
        "data_1=pd.read_csv(data_path)\n",
        "data_1 = data_1.dropna()\n",
        "print(data_1.columns)\n",
        "data=data_1[['Open','High','Low','Close','Momentum','Average','Range','OHLC Price']]\n",
        "dates=data_1[['Date']]\n",
        "\n",
        "# normalising data\n",
        "\n",
        "Open=MinMaxScaler()\n",
        "High=MinMaxScaler()\n",
        "Low=MinMaxScaler()\n",
        "Close=MinMaxScaler()\n",
        "Volume=MinMaxScaler()\n",
        "Lowest=MinMaxScaler()\n",
        "\n",
        "dataaa=np.zeros((data.shape),dtype=np.float64)\n",
        "a=Open.fit_transform(data[['Open']])\n",
        "dataaa[:,0] = a[:,0]\n",
        "a=High.fit_transform(data[['High']])\n",
        "dataaa[:,1] = a[:,0]\n",
        "a=Low.fit_transform(data[['Low']])\n",
        "dataaa[:,2] = a[:,0]\n",
        "a=Close.fit_transform(data[['Close']])\n",
        "dataaa[:,3] = a[:,0]\n",
        "a=Volume.fit_transform(data[['Momentum']])\n",
        "dataaa[:,4] = a[:,0]\n",
        "a=Lowest.fit_transform(data[['Average']])\n",
        "dataaa[:,5] = a[:,0]\n",
        "a=Open.fit_transform(data[['Average']])\n",
        "dataaa[:,6] = a[:,0]\n",
        "a=Open.fit_transform(data[['Range']])\n",
        "dataaa[:,7] = a[:,0]\n",
        "a=Open.fit_transform(data[['OHLC Price']])\n",
        "dataaa[:,7] = a[:,0]\n",
        "a=dataaa[:,0]\n",
        "smoother.smooth(a)\n",
        "dataaa[:,0]=smoother.smooth_data\n",
        "\n",
        "a=dataaa[:,1]\n",
        "smoother.smooth(a)\n",
        "dataaa[:,1]=smoother.smooth_data\n",
        "\n",
        "a=dataaa[:,2]\n",
        "smoother.smooth(a)\n",
        "dataaa[:,2]=smoother.smooth_data\n",
        "\n",
        "a=dataaa[:,3]\n",
        "smoother.smooth(a)\n",
        "dataaa[:,3]=smoother.smooth_data\n",
        "\n",
        "a=dataaa[:,4]\n",
        "smoother.smooth(a)\n",
        "dataaa[:,4]=smoother.smooth_data\n",
        "\n",
        "a=dataaa[:,5]\n",
        "smoother.smooth(a)\n",
        "dataaa[:,5]=smoother.smooth_data\n",
        "\n",
        "a=dataaa[:,6]\n",
        "smoother.smooth(a)\n",
        "dataaa[:,6]=smoother.smooth_data\n",
        "\n",
        "a=dataaa[:,7]\n",
        "smoother.smooth(a)\n",
        "dataaa[:,7]=smoother.smooth_data\n",
        "\n",
        "\n",
        "full_data=dataaa\n",
        "\n",
        "# finding total number of days\n",
        "\n",
        "data=dataaa\n",
        "\n",
        "\n",
        "total_days=data.shape[0]\n",
        "print(total_days)"
      ],
      "execution_count": 15,
      "outputs": [
        {
          "output_type": "stream",
          "name": "stdout",
          "text": [
            "Index(['Date', 'Open', 'High', 'Low', 'Close', 'Adj Close', 'Momentum',\n",
            "       'Average', 'Range', 'OHLC Price'],\n",
            "      dtype='object')\n",
            "4603\n"
          ]
        }
      ]
    },
    {
      "cell_type": "code",
      "metadata": {
        "id": "c0BLhC-3tHjc"
      },
      "source": [
        "training_period_dates=dates.loc[:int(full_data.shape[0]*1)]\n",
        "#testing_period_dates=dates.loc[int(full_data.shape[0]*0.9):]"
      ],
      "execution_count": 16,
      "outputs": []
    },
    {
      "cell_type": "code",
      "metadata": {
        "colab": {
          "base_uri": "https://localhost:8080/"
        },
        "id": "t9q5UB4fGbUM",
        "outputId": "4cad40a1-f109-4b61-cdb0-2a9c26ff59df"
      },
      "source": [
        "total_days=data.shape[0]\n",
        "\n",
        "timesteps=10\n",
        "\n",
        "Train_data=data[:round(total_days*1),:]\n",
        "#Test_data=data[round(total_days*0.9):,:]\n",
        "print(Train_data.shape[0],\" Days are used for Training\")\n",
        "#print(Test_data.shape[0],\" Days are used for Testing\")\n",
        "# Function for ordering or making sequence of our test and train data according to date\n",
        "def make_sequence(data,timesteps):\n",
        "    X_train=[]\n",
        "    Y_train=[]\n",
        "    for i in range(len(data)-timesteps):\n",
        "        X_train.append(data[i:(i+timesteps),[0,1,2,4,5,6,7]])\n",
        "        Y_train.append(data[i+timesteps,3])\n",
        "    return X_train,Y_train\n",
        "Train_data,Train_Label=make_sequence(Train_data,timesteps)\n",
        "Train_data,Train_Label=np.array(Train_data),np.array(Train_Label)\n",
        "#Test_data,Test_Label=make_sequence(Test_data,timesteps)\n",
        "#Test_data,Test_Label=np.array(Test_data),np.array(Test_Label)\n",
        "input_shape=((Train_data).shape[1],(Train_data).shape[2])\n",
        "print(input_shape)\n",
        "Train_Label = Train_Label.reshape(-1,1)\n"
      ],
      "execution_count": 56,
      "outputs": [
        {
          "output_type": "stream",
          "name": "stdout",
          "text": [
            "4603  Days are used for Training\n",
            "(10, 7)\n",
            "[[0.28144503 0.28519541 0.7238577  0.53584218 0.47168658 0.47168658\n",
            "  0.28321423]\n",
            " [0.28875654 0.29460366 0.73353664 0.512769   0.48128412 0.48128412\n",
            "  0.29274589]\n",
            " [0.29700885 0.30261688 0.74130871 0.50931996 0.4895248  0.4895248\n",
            "  0.30158356]\n",
            " [0.30396696 0.30954786 0.74656595 0.50955915 0.49581052 0.49581052\n",
            "  0.30872379]\n",
            " [0.30968884 0.31595678 0.75032997 0.50089407 0.50112145 0.50112145\n",
            "  0.31522292]\n",
            " [0.31589181 0.32155189 0.75316434 0.50579651 0.5056653  0.5056653\n",
            "  0.32114871]\n",
            " [0.32114882 0.32590477 0.75492543 0.5146823  0.50894607 0.50894607\n",
            "  0.32570132]\n",
            " [0.32475666 0.32897803 0.75577586 0.52068631 0.51097563 0.51097563\n",
            "  0.32872376]\n",
            " [0.32687889 0.33198445 0.75654891 0.50896161 0.51294356 0.51294356\n",
            "  0.33162586]\n",
            " [0.32979432 0.33650789 0.75800394 0.49491641 0.51614184 0.51614184\n",
            "  0.33585915]]\n"
          ]
        }
      ]
    },
    {
      "cell_type": "code",
      "metadata": {
        "colab": {
          "base_uri": "https://localhost:8080/"
        },
        "id": "BK1i_pLvtTeP",
        "outputId": "059e746c-9714-433f-f67a-8feb1b8767a4"
      },
      "source": [
        "#model building\n",
        "model=Sequential()\n",
        "\n",
        "#adding layers to the model\n",
        "model.add(GRU(20,input_shape=input_shape,return_sequences=True))\n",
        "model.add(LSTM(256,return_sequences = True))\n",
        "model.add(Dense(64))\n",
        "model.add(Dense(1))\n",
        "\n",
        "#compiling model\n",
        "lr=1e-3\n",
        "model.compile(optimizer = optimizers.Adam(learning_rate= lr), loss = 'mean_squared_error')\n",
        "\n",
        "#fitting model\n",
        "history=model.fit(Train_data,Train_Label,batch_size=36,epochs=60)"
      ],
      "execution_count": 53,
      "outputs": [
        {
          "output_type": "stream",
          "name": "stdout",
          "text": [
            "Epoch 1/60\n",
            "128/128 [==============================] - 15s 83ms/step - loss: 0.0116\n",
            "Epoch 2/60\n",
            "128/128 [==============================] - 11s 83ms/step - loss: 0.0012\n",
            "Epoch 3/60\n",
            "128/128 [==============================] - 10s 82ms/step - loss: 6.9628e-04\n",
            "Epoch 4/60\n",
            "128/128 [==============================] - 11s 82ms/step - loss: 6.4857e-04\n",
            "Epoch 5/60\n",
            "128/128 [==============================] - 11s 82ms/step - loss: 6.4430e-04\n",
            "Epoch 6/60\n",
            "128/128 [==============================] - 11s 82ms/step - loss: 6.3102e-04\n",
            "Epoch 7/60\n",
            "128/128 [==============================] - 11s 82ms/step - loss: 6.3068e-04\n",
            "Epoch 8/60\n",
            "128/128 [==============================] - 11s 84ms/step - loss: 6.3190e-04\n",
            "Epoch 9/60\n",
            "128/128 [==============================] - 11s 83ms/step - loss: 6.5306e-04\n",
            "Epoch 10/60\n",
            "128/128 [==============================] - 11s 83ms/step - loss: 6.2192e-04\n",
            "Epoch 11/60\n",
            "128/128 [==============================] - 11s 83ms/step - loss: 6.9853e-04\n",
            "Epoch 12/60\n",
            "128/128 [==============================] - 11s 83ms/step - loss: 6.0070e-04\n",
            "Epoch 13/60\n",
            "128/128 [==============================] - 11s 83ms/step - loss: 6.1816e-04\n",
            "Epoch 14/60\n",
            "128/128 [==============================] - 11s 83ms/step - loss: 6.2450e-04\n",
            "Epoch 15/60\n",
            "128/128 [==============================] - 11s 83ms/step - loss: 6.6809e-04\n",
            "Epoch 16/60\n",
            "128/128 [==============================] - 11s 83ms/step - loss: 6.1160e-04\n",
            "Epoch 17/60\n",
            "128/128 [==============================] - 11s 84ms/step - loss: 6.1984e-04\n",
            "Epoch 18/60\n",
            "128/128 [==============================] - 11s 82ms/step - loss: 6.2405e-04\n",
            "Epoch 19/60\n",
            "128/128 [==============================] - 11s 83ms/step - loss: 5.8974e-04\n",
            "Epoch 20/60\n",
            "128/128 [==============================] - 11s 83ms/step - loss: 5.9699e-04\n",
            "Epoch 21/60\n",
            "128/128 [==============================] - 11s 83ms/step - loss: 6.3147e-04\n",
            "Epoch 22/60\n",
            "128/128 [==============================] - 11s 83ms/step - loss: 5.9595e-04\n",
            "Epoch 23/60\n",
            "128/128 [==============================] - 11s 82ms/step - loss: 5.9192e-04\n",
            "Epoch 24/60\n",
            "128/128 [==============================] - 11s 83ms/step - loss: 6.0943e-04\n",
            "Epoch 25/60\n",
            "128/128 [==============================] - 11s 83ms/step - loss: 6.2038e-04\n",
            "Epoch 26/60\n",
            "128/128 [==============================] - 11s 83ms/step - loss: 5.9464e-04\n",
            "Epoch 27/60\n",
            "128/128 [==============================] - 11s 83ms/step - loss: 6.1093e-04\n",
            "Epoch 28/60\n",
            "128/128 [==============================] - 11s 84ms/step - loss: 5.9812e-04\n",
            "Epoch 29/60\n",
            "128/128 [==============================] - 11s 83ms/step - loss: 5.9747e-04\n",
            "Epoch 30/60\n",
            "128/128 [==============================] - 11s 84ms/step - loss: 5.8954e-04\n",
            "Epoch 31/60\n",
            "128/128 [==============================] - 11s 84ms/step - loss: 6.0508e-04\n",
            "Epoch 32/60\n",
            "128/128 [==============================] - 11s 83ms/step - loss: 5.7922e-04\n",
            "Epoch 33/60\n",
            "128/128 [==============================] - 11s 83ms/step - loss: 6.0365e-04\n",
            "Epoch 34/60\n",
            "128/128 [==============================] - 11s 84ms/step - loss: 5.9882e-04\n",
            "Epoch 35/60\n",
            "128/128 [==============================] - 11s 84ms/step - loss: 5.7407e-04\n",
            "Epoch 36/60\n",
            "128/128 [==============================] - 11s 83ms/step - loss: 5.9503e-04\n",
            "Epoch 37/60\n",
            "128/128 [==============================] - 11s 84ms/step - loss: 5.6683e-04\n",
            "Epoch 38/60\n",
            "128/128 [==============================] - 11s 84ms/step - loss: 5.7527e-04\n",
            "Epoch 39/60\n",
            "128/128 [==============================] - 11s 84ms/step - loss: 5.7286e-04\n",
            "Epoch 40/60\n",
            "128/128 [==============================] - 11s 83ms/step - loss: 5.6612e-04\n",
            "Epoch 41/60\n",
            "128/128 [==============================] - 11s 84ms/step - loss: 6.4920e-04\n",
            "Epoch 42/60\n",
            "128/128 [==============================] - 11s 83ms/step - loss: 5.8654e-04\n",
            "Epoch 43/60\n",
            "128/128 [==============================] - 11s 83ms/step - loss: 5.7665e-04\n",
            "Epoch 44/60\n",
            "128/128 [==============================] - 11s 83ms/step - loss: 5.6937e-04\n",
            "Epoch 45/60\n",
            "128/128 [==============================] - 11s 83ms/step - loss: 5.5998e-04\n",
            "Epoch 46/60\n",
            "128/128 [==============================] - 11s 83ms/step - loss: 5.8222e-04\n",
            "Epoch 47/60\n",
            "128/128 [==============================] - 11s 84ms/step - loss: 5.5639e-04\n",
            "Epoch 48/60\n",
            "128/128 [==============================] - 11s 84ms/step - loss: 5.7820e-04\n",
            "Epoch 49/60\n",
            "128/128 [==============================] - 11s 84ms/step - loss: 5.6395e-04\n",
            "Epoch 50/60\n",
            "128/128 [==============================] - 11s 84ms/step - loss: 5.5516e-04\n",
            "Epoch 51/60\n",
            "128/128 [==============================] - 11s 84ms/step - loss: 5.7227e-04\n",
            "Epoch 52/60\n",
            "128/128 [==============================] - 11s 84ms/step - loss: 5.6048e-04\n",
            "Epoch 53/60\n",
            "128/128 [==============================] - 11s 84ms/step - loss: 5.8887e-04\n",
            "Epoch 54/60\n",
            "128/128 [==============================] - 11s 83ms/step - loss: 5.7667e-04\n",
            "Epoch 55/60\n",
            "128/128 [==============================] - 11s 84ms/step - loss: 5.5742e-04\n",
            "Epoch 56/60\n",
            "128/128 [==============================] - 11s 85ms/step - loss: 5.7344e-04\n",
            "Epoch 57/60\n",
            "128/128 [==============================] - 11s 84ms/step - loss: 5.5351e-04\n",
            "Epoch 58/60\n",
            "128/128 [==============================] - 11s 83ms/step - loss: 5.6680e-04\n",
            "Epoch 59/60\n",
            "128/128 [==============================] - 11s 84ms/step - loss: 5.7240e-04\n",
            "Epoch 60/60\n",
            "128/128 [==============================] - 11s 84ms/step - loss: 5.6808e-04\n"
          ]
        }
      ]
    },
    {
      "cell_type": "code",
      "metadata": {
        "id": "U84ctHmzuHVY",
        "colab": {
          "base_uri": "https://localhost:8080/",
          "height": 193
        },
        "outputId": "3c4c1d29-641f-40b5-8b4b-104d9e159cea"
      },
      "source": [
        "testing_period_dates=testing_period_dates[10:]\n",
        "a=testing_period_dates['Date'].loc[:]"
      ],
      "execution_count": 24,
      "outputs": [
        {
          "output_type": "error",
          "ename": "NameError",
          "evalue": "ignored",
          "traceback": [
            "\u001b[0;31m---------------------------------------------------------------------------\u001b[0m",
            "\u001b[0;31mNameError\u001b[0m                                 Traceback (most recent call last)",
            "\u001b[0;32m<ipython-input-24-e8c27742848c>\u001b[0m in \u001b[0;36m<module>\u001b[0;34m()\u001b[0m\n\u001b[0;32m----> 1\u001b[0;31m \u001b[0mtesting_period_dates\u001b[0m\u001b[0;34m=\u001b[0m\u001b[0mtesting_period_dates\u001b[0m\u001b[0;34m[\u001b[0m\u001b[0;36m10\u001b[0m\u001b[0;34m:\u001b[0m\u001b[0;34m]\u001b[0m\u001b[0;34m\u001b[0m\u001b[0;34m\u001b[0m\u001b[0m\n\u001b[0m\u001b[1;32m      2\u001b[0m \u001b[0ma\u001b[0m\u001b[0;34m=\u001b[0m\u001b[0mtesting_period_dates\u001b[0m\u001b[0;34m[\u001b[0m\u001b[0;34m'Date'\u001b[0m\u001b[0;34m]\u001b[0m\u001b[0;34m.\u001b[0m\u001b[0mloc\u001b[0m\u001b[0;34m[\u001b[0m\u001b[0;34m:\u001b[0m\u001b[0;34m]\u001b[0m\u001b[0;34m\u001b[0m\u001b[0;34m\u001b[0m\u001b[0m\n",
            "\u001b[0;31mNameError\u001b[0m: name 'testing_period_dates' is not defined"
          ]
        }
      ]
    },
    {
      "cell_type": "code",
      "metadata": {
        "colab": {
          "base_uri": "https://localhost:8080/",
          "height": 1000
        },
        "id": "-0ewV18SuMkj",
        "outputId": "e53950a0-710b-487b-c7d5-8d82708b6233"
      },
      "source": [
        "#predicting values from our model of test data\n",
        "Test_Predicted_Label=model.predict(Train_data)\n",
        "print(Test_Predicted_Label.shape)\n",
        "print(Test_Predicted_Label)\n",
        "Test_Label = Train_Label.reshape(Train_Label.shape[0],1)\n",
        "y_hat_test = Close.inverse_transform(Test_Predicted_Label)\n",
        "#y_test = Close.inverse_transform(Test_Label)\n",
        "np.savetxt(\"predicted.csv\", y_hat_test, delimiter=\",\")\n",
        "#calculating and printing mean square error\n",
        "mse = mean_squared_error(y_test,y_hat_test)\n",
        "print(\"Mean Square Error of Test Data is \",mse)\n",
        "ratio_mean_predicted = np.mean(y_hat_test / y_test)\n",
        "ratio_std_predicted  = np.std(y_hat_test / y_test)"
      ],
      "execution_count": 54,
      "outputs": [
        {
          "output_type": "stream",
          "name": "stdout",
          "text": [
            "(4593, 10, 1)\n",
            "[[[0.29315162]\n",
            "  [0.3238381 ]\n",
            "  [0.32437074]\n",
            "  ...\n",
            "  [0.341089  ]\n",
            "  [0.35873532]\n",
            "  [0.36474603]]\n",
            "\n",
            " [[0.3139323 ]\n",
            "  [0.32600623]\n",
            "  [0.32996964]\n",
            "  ...\n",
            "  [0.35892618]\n",
            "  [0.36481506]\n",
            "  [0.37166363]]\n",
            "\n",
            " [[0.324387  ]\n",
            "  [0.33054984]\n",
            "  [0.34395266]\n",
            "  ...\n",
            "  [0.36496204]\n",
            "  [0.37165534]\n",
            "  [0.36543006]]\n",
            "\n",
            " ...\n",
            "\n",
            " [[0.26014373]\n",
            "  [0.25742817]\n",
            "  [0.25715888]\n",
            "  ...\n",
            "  [0.24200423]\n",
            "  [0.23916282]\n",
            "  [0.23763129]]\n",
            "\n",
            " [[0.25854516]\n",
            "  [0.25629503]\n",
            "  [0.25488687]\n",
            "  ...\n",
            "  [0.23947082]\n",
            "  [0.23778662]\n",
            "  [0.23592432]]\n",
            "\n",
            " [[0.2572503 ]\n",
            "  [0.254268  ]\n",
            "  [0.2519654 ]\n",
            "  ...\n",
            "  [0.23809613]\n",
            "  [0.2360823 ]\n",
            "  [0.23219593]]]\n"
          ]
        },
        {
          "output_type": "error",
          "ename": "ValueError",
          "evalue": "ignored",
          "traceback": [
            "\u001b[0;31m---------------------------------------------------------------------------\u001b[0m",
            "\u001b[0;31mValueError\u001b[0m                                Traceback (most recent call last)",
            "\u001b[0;32m<ipython-input-54-b326ae652b6d>\u001b[0m in \u001b[0;36m<module>\u001b[0;34m()\u001b[0m\n\u001b[1;32m      4\u001b[0m \u001b[0mprint\u001b[0m\u001b[0;34m(\u001b[0m\u001b[0mTest_Predicted_Label\u001b[0m\u001b[0;34m)\u001b[0m\u001b[0;34m\u001b[0m\u001b[0;34m\u001b[0m\u001b[0m\n\u001b[1;32m      5\u001b[0m \u001b[0mTest_Label\u001b[0m \u001b[0;34m=\u001b[0m \u001b[0mTrain_Label\u001b[0m\u001b[0;34m.\u001b[0m\u001b[0mreshape\u001b[0m\u001b[0;34m(\u001b[0m\u001b[0mTrain_Label\u001b[0m\u001b[0;34m.\u001b[0m\u001b[0mshape\u001b[0m\u001b[0;34m[\u001b[0m\u001b[0;36m0\u001b[0m\u001b[0;34m]\u001b[0m\u001b[0;34m,\u001b[0m\u001b[0;36m1\u001b[0m\u001b[0;34m)\u001b[0m\u001b[0;34m\u001b[0m\u001b[0;34m\u001b[0m\u001b[0m\n\u001b[0;32m----> 6\u001b[0;31m \u001b[0my_hat_test\u001b[0m \u001b[0;34m=\u001b[0m \u001b[0mClose\u001b[0m\u001b[0;34m.\u001b[0m\u001b[0minverse_transform\u001b[0m\u001b[0;34m(\u001b[0m\u001b[0mTest_Predicted_Label\u001b[0m\u001b[0;34m)\u001b[0m\u001b[0;34m\u001b[0m\u001b[0;34m\u001b[0m\u001b[0m\n\u001b[0m\u001b[1;32m      7\u001b[0m \u001b[0;31m#y_test = Close.inverse_transform(Test_Label)\u001b[0m\u001b[0;34m\u001b[0m\u001b[0;34m\u001b[0m\u001b[0;34m\u001b[0m\u001b[0m\n\u001b[1;32m      8\u001b[0m \u001b[0mnp\u001b[0m\u001b[0;34m.\u001b[0m\u001b[0msavetxt\u001b[0m\u001b[0;34m(\u001b[0m\u001b[0;34m\"predicted.csv\"\u001b[0m\u001b[0;34m,\u001b[0m \u001b[0my_hat_test\u001b[0m\u001b[0;34m,\u001b[0m \u001b[0mdelimiter\u001b[0m\u001b[0;34m=\u001b[0m\u001b[0;34m\",\"\u001b[0m\u001b[0;34m)\u001b[0m\u001b[0;34m\u001b[0m\u001b[0;34m\u001b[0m\u001b[0m\n",
            "\u001b[0;32m/usr/local/lib/python3.7/dist-packages/sklearn/preprocessing/_data.py\u001b[0m in \u001b[0;36minverse_transform\u001b[0;34m(self, X)\u001b[0m\n\u001b[1;32m    432\u001b[0m \u001b[0;34m\u001b[0m\u001b[0m\n\u001b[1;32m    433\u001b[0m         X = check_array(X, copy=self.copy, dtype=FLOAT_DTYPES,\n\u001b[0;32m--> 434\u001b[0;31m                         force_all_finite=\"allow-nan\")\n\u001b[0m\u001b[1;32m    435\u001b[0m \u001b[0;34m\u001b[0m\u001b[0m\n\u001b[1;32m    436\u001b[0m         \u001b[0mX\u001b[0m \u001b[0;34m-=\u001b[0m \u001b[0mself\u001b[0m\u001b[0;34m.\u001b[0m\u001b[0mmin_\u001b[0m\u001b[0;34m\u001b[0m\u001b[0;34m\u001b[0m\u001b[0m\n",
            "\u001b[0;32m/usr/local/lib/python3.7/dist-packages/sklearn/utils/validation.py\u001b[0m in \u001b[0;36mcheck_array\u001b[0;34m(array, accept_sparse, accept_large_sparse, dtype, order, copy, force_all_finite, ensure_2d, allow_nd, ensure_min_samples, ensure_min_features, warn_on_dtype, estimator)\u001b[0m\n\u001b[1;32m    572\u001b[0m         \u001b[0;32mif\u001b[0m \u001b[0;32mnot\u001b[0m \u001b[0mallow_nd\u001b[0m \u001b[0;32mand\u001b[0m \u001b[0marray\u001b[0m\u001b[0;34m.\u001b[0m\u001b[0mndim\u001b[0m \u001b[0;34m>=\u001b[0m \u001b[0;36m3\u001b[0m\u001b[0;34m:\u001b[0m\u001b[0;34m\u001b[0m\u001b[0;34m\u001b[0m\u001b[0m\n\u001b[1;32m    573\u001b[0m             raise ValueError(\"Found array with dim %d. %s expected <= 2.\"\n\u001b[0;32m--> 574\u001b[0;31m                              % (array.ndim, estimator_name))\n\u001b[0m\u001b[1;32m    575\u001b[0m \u001b[0;34m\u001b[0m\u001b[0m\n\u001b[1;32m    576\u001b[0m         \u001b[0;32mif\u001b[0m \u001b[0mforce_all_finite\u001b[0m\u001b[0;34m:\u001b[0m\u001b[0;34m\u001b[0m\u001b[0;34m\u001b[0m\u001b[0m\n",
            "\u001b[0;31mValueError\u001b[0m: Found array with dim 3. Estimator expected <= 2."
          ]
        }
      ]
    },
    {
      "cell_type": "code",
      "metadata": {
        "id": "MrG65DAduR6R"
      },
      "source": [
        "# plotting actual vs predicted values price\n",
        "plt.style.use('default')\n",
        "plt.figure(figsize=(13,4))\n",
        "plt.plot(y_test,c = 'r')\n",
        "plt.plot(y_hat_test,c = 'y')\n",
        "plt.xticks(range(0,a.shape[0],100),a.loc[::100],rotation=45)\n",
        "plt.xlabel('Date')\n",
        "plt.ylabel('Price')\n",
        "plt.title('proceedit 20210122 - SPP - Case 2-Stock Prediction Graph using Multivariate-LSTM model')\n",
        "plt.legend(['Actual','Predicted'],loc = 'lower right')"
      ],
      "execution_count": null,
      "outputs": []
    },
    {
      "cell_type": "code",
      "metadata": {
        "id": "CV3P7nwIuXZg"
      },
      "source": [
        "# plotting offset by date\n",
        "plt.style.use('default')\n",
        "\n",
        "plt.figure(figsize=(15,5))\n",
        "plt.plot((y_test-y_hat_test))\n",
        "plt.xticks(range(0,a.shape[0],100),a.loc[::100],rotation=45)\n",
        "plt.grid(True)\n",
        "\n",
        "plt.xlabel('Date')\n",
        "plt.ylabel('Offset')\n",
        "plt.rc('axes', titlesize=20) \n",
        "plt.rc('axes', labelsize=15)\n",
        "plt.rc('xtick', labelsize=15)    # fontsize of the tick labels\n",
        "plt.rc('ytick', labelsize=15)    # fontsize of the tick labels\n",
        "plt.rc('legend', fontsize=13)    # legend fontsize\n",
        "plt.title('proceedit 20210122 - SPP - Case 2- Offset=(Predicted-Actual)/Actual vs Days')"
      ],
      "execution_count": null,
      "outputs": []
    },
    {
      "cell_type": "code",
      "metadata": {
        "id": "cRtYHmwpueHV"
      },
      "source": [
        "# plotting ratio of Predicted vs Actual Price\n",
        "plt.style.use('default')\n",
        "plt.figure(figsize=(15,5))\n",
        "plt.plot((y_test/y_hat_test))\n",
        "plt.xticks(range(0,a.shape[0],100),a.loc[::100],rotation=45)\n",
        "plt.grid(True)\n",
        "plt.xlabel('Date')\n",
        "plt.ylabel('Ratio of Predicted and Actual Price')\n",
        "plt.rc('axes', titlesize=20) \n",
        "plt.rc('axes', labelsize=15)\n",
        "plt.rc('xtick', labelsize=15)    # fontsize of the tick labels\n",
        "plt.rc('ytick', labelsize=15)    # fontsize of the tick labels\n",
        "plt.rc('legend', fontsize=13)    # legend fontsize\n",
        "plt.title('proceedit 20210122 - SPP - Case 2- Ratio of Predicted and Actual Price vs Days')\n",
        "plt.style.use('default')"
      ],
      "execution_count": null,
      "outputs": []
    },
    {
      "cell_type": "code",
      "metadata": {
        "id": "ehNIEnnIug_s"
      },
      "source": [
        "# plotting actual close price vs the ratio between predicted and actual price\n",
        "plt.figure(figsize=(10,5))\n",
        "\n",
        "plt.scatter(y_test,y_hat_test/y_test)\n",
        "m, b = np.polyfit(y_test[:,0],y_hat_test/y_test[:,0], 1)\n",
        "plt.title('proceedit 20210116- SPP - Case 2 - x representing the Actual Close prices and in y the ratio between Predicted and Actual price')\n",
        "plt.plot(y_test[:,0], m*y_test[:,0]+ b,color='red')\n",
        "plt.xlabel('True Price')\n",
        "plt.ylabel('Predicted Price')\n",
        "plt.grid(True)\n",
        "r2=r2_score(y_test,y_hat_test)\n",
        "print(\"R2 Score is \",r2)"
      ],
      "execution_count": null,
      "outputs": []
    },
    {
      "cell_type": "code",
      "metadata": {
        "id": "fuRsNbo5ukX0"
      },
      "source": [
        "# predicted values from model\n",
        "Train_Predicted_Label=model.predict(Train_data)\n",
        "Train_Test_Label=Train_Label.reshape(Train_Label.shape[0],1)\n",
        "\n",
        "# inverse transformation\n",
        "Train_y_hat=Lowest.inverse_transform(Train_Predicted_Label)\n",
        "Train_y=Lowest.inverse_transform(Train_Test_Label)"
      ],
      "execution_count": null,
      "outputs": []
    },
    {
      "cell_type": "code",
      "metadata": {
        "id": "w6FLJ5UcuoaP"
      },
      "source": [
        "mse=mean_squared_error(Train_y,Train_y_hat)\n",
        "print(mse)"
      ],
      "execution_count": null,
      "outputs": []
    },
    {
      "cell_type": "code",
      "metadata": {
        "id": "2l15f0Rauq_g"
      },
      "source": [
        "# calculating ratio and printing\n",
        "ratio_mean_Train=np.mean(Train_y_hat/Train_y)\n",
        "ratio_std_Train=np.std(Train_y_hat/Train_y)"
      ],
      "execution_count": null,
      "outputs": []
    },
    {
      "cell_type": "code",
      "metadata": {
        "id": "3tgcBdZsuvQ3"
      },
      "source": [
        "model.save(path+'S&P500_OHLCVM_model.h5')"
      ],
      "execution_count": null,
      "outputs": []
    },
    {
      "cell_type": "code",
      "metadata": {
        "id": "uHHVtlyWuv3I"
      },
      "source": [
        "os.listdir(path)\n",
        "print(path)\n",
        "# saving our predicted values in .csv file\n",
        "np.savetxt(path+'train_OHLCVM_10_2.csv',Train_y_hat)\n",
        "np.savetxt(path+'test_OHLCVM_10_2.csv',y_hat_test)"
      ],
      "execution_count": null,
      "outputs": []
    },
    {
      "cell_type": "code",
      "metadata": {
        "id": "JmGMWg6nu0eC"
      },
      "source": [
        "# saving our predicted values in .csv file\n",
        "np.savetxt(path+'train_OHLCVM_10_2.csv',Train_y_hat)\n",
        "np.savetxt(path+'test_OHLCVM_10_2.csv',y_hat_test)"
      ],
      "execution_count": null,
      "outputs": []
    }
  ]
}