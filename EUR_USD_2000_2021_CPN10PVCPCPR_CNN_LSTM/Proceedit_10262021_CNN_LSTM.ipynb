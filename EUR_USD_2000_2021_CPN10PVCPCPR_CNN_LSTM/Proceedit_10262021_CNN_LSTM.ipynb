{
  "nbformat": 4,
  "nbformat_minor": 0,
  "metadata": {
    "colab": {
      "name": "Classic LSTM-CNN.ipynb",
      "provenance": []
    },
    "kernelspec": {
      "name": "python3",
      "display_name": "Python 3"
    },
    "language_info": {
      "name": "python"
    }
  },
  "cells": [
    {
      "cell_type": "code",
      "metadata": {
        "id": "01TQOeK5gjgb"
      },
      "source": [
        "import os \n",
        "from google.colab import drive"
      ],
      "execution_count": null,
      "outputs": []
    },
    {
      "cell_type": "code",
      "metadata": {
        "colab": {
          "base_uri": "https://localhost:8080/"
        },
        "id": "gAY_l_XfqoN8",
        "outputId": "930733e7-d263-4d1d-8308-f2bfa11f2186"
      },
      "source": [
        "!pip install tsmoothie"
      ],
      "execution_count": null,
      "outputs": [
        {
          "output_type": "stream",
          "name": "stdout",
          "text": [
            "Collecting tsmoothie\n",
            "  Downloading tsmoothie-1.0.4-py3-none-any.whl (21 kB)\n",
            "Requirement already satisfied: scipy in /usr/local/lib/python3.7/dist-packages (from tsmoothie) (1.4.1)\n",
            "Requirement already satisfied: numpy in /usr/local/lib/python3.7/dist-packages (from tsmoothie) (1.19.5)\n",
            "Collecting simdkalman\n",
            "  Downloading simdkalman-1.0.2-py2.py3-none-any.whl (11 kB)\n",
            "Installing collected packages: simdkalman, tsmoothie\n",
            "Successfully installed simdkalman-1.0.2 tsmoothie-1.0.4\n"
          ]
        }
      ]
    },
    {
      "cell_type": "code",
      "metadata": {
        "id": "GouJdy_tqp0P"
      },
      "source": [
        "import numpy as np\n",
        "import numpy as np\n",
        "import pandas as pd \n",
        "import matplotlib.pyplot as plt\n",
        "import tensorflow as tf\n",
        "import tsmoothie\n",
        "from tensorflow.keras.models import Sequential,load_model\n",
        "from tensorflow.keras.layers import Dense, Conv1D,Input, MaxPooling1D\n",
        "from tensorflow.keras.layers import Bidirectional\n",
        "from tensorflow.keras.layers import Dropout\n",
        "from sklearn.decomposition import PCA\n",
        "from tensorflow.keras import optimizers\n",
        "from sklearn.preprocessing import MinMaxScaler\n",
        "import sklearn\n",
        "from sklearn.metrics import mean_squared_error,r2_score\n",
        "%matplotlib inline"
      ],
      "execution_count": null,
      "outputs": []
    },
    {
      "cell_type": "code",
      "metadata": {
        "id": "SaAhmUUGqyNw"
      },
      "source": [
        "#LSTM=tf.compat.v1.keras.layers.CuDNNLSTM \n",
        "LSTM = tf.compat.v1.keras.layers.LSTM\n",
        "GRU = tf.compat.v1.keras.layers.GRU\n",
        "#GRU = tf.compat.v1.keras.layers.CuDNNGRU\n",
        "a=tf.compat.v1.keras.layers.CuDNNLSTM\n",
        "smoother=tsmoothie.KalmanSmoother(component='level_trend',  component_noise={'level':0.1, 'trend':0.1})"
      ],
      "execution_count": null,
      "outputs": []
    },
    {
      "cell_type": "code",
      "metadata": {
        "id": "4dxX3HWdq-Kk"
      },
      "source": [
        "data_path = \"CNN_TLSTM dataset.csv\""
      ],
      "execution_count": null,
      "outputs": []
    },
    {
      "cell_type": "code",
      "metadata": {
        "colab": {
          "base_uri": "https://localhost:8080/"
        },
        "id": "RzZ8oALorMW7",
        "outputId": "b3451e84-808e-42dd-cadd-3f7070186028"
      },
      "source": [
        "# loading data\n",
        "\n",
        "data_1=pd.read_csv(data_path)\n",
        "print(data_1.head())\n",
        "print(data_1.columns)\n",
        "data=data_1[['Open','High',\n",
        "             'Low','Close','Nasdaq Index (NI)',\n",
        "             'Dow-Jones  Industrial \\nAverage (DJIA)',\n",
        "             'Shanghai Composite Index (SCI)',\n",
        "             'Hang Seng Index (HSI)']]\n",
        "dates=data_1[['Date']]\n",
        "#Interpolation\n",
        "data[['Open']] = data[['Open']].interpolate()\n",
        "data[['High']] = data[['High']].interpolate()\n",
        "data[['Low']] = data[['Low']].interpolate()\n",
        "data[['Close']] = data[['Close']].interpolate()\n",
        "data[['Nasdaq Index (NI)']] = data[['Nasdaq Index (NI)']].interpolate()\n",
        "data[['Dow-Jones  Industrial \\nAverage (DJIA)']] = data[['Dow-Jones  Industrial \\nAverage (DJIA)']].interpolate()\n",
        "data[['Shanghai Composite Index (SCI)']] = data[['Shanghai Composite Index (SCI)']].interpolate()\n",
        "data[['Hang Seng Index (HSI)']] = data[['Hang Seng Index (HSI)']].interpolate()\n",
        "\n",
        "# normalising data\n",
        "\n",
        "Open=MinMaxScaler()\n",
        "High=MinMaxScaler()\n",
        "Low=MinMaxScaler()\n",
        "Close=MinMaxScaler()\n",
        "Volume=MinMaxScaler()\n",
        "Lowest=MinMaxScaler()\n",
        "\n",
        "dataaa=np.zeros((data.shape),dtype=np.float64)\n",
        "\n",
        "a=Open.fit_transform(data[['Open']])\n",
        "dataaa[:,0] = a[:,0]\n",
        "a=High.fit_transform(data[['High']])\n",
        "dataaa[:,1] = a[:,0]\n",
        "a=Low.fit_transform(data[['Low']])\n",
        "dataaa[:,2] = a[:,0]\n",
        "a=Close.fit_transform(data[['Close']])\n",
        "dataaa[:,3] = a[:,0]\n",
        "a=Volume.fit_transform(data[['Nasdaq Index (NI)']])\n",
        "dataaa[:,4] = a[:,0]\n",
        "a=Lowest.fit_transform(data[['Dow-Jones  Industrial \\nAverage (DJIA)']])\n",
        "dataaa[:,5] = a[:,0]\n",
        "a=Open.fit_transform(data[['Shanghai Composite Index (SCI)']])\n",
        "dataaa[:,6] = a[:,0]\n",
        "a=Open.fit_transform(data[['Hang Seng Index (HSI)']])\n",
        "\n",
        "a=dataaa[:,0]\n",
        "smoother.smooth(a)\n",
        "dataaa[:,0]=smoother.smooth_data\n",
        "\n",
        "a=dataaa[:,1]\n",
        "smoother.smooth(a)\n",
        "dataaa[:,1]=smoother.smooth_data\n",
        "\n",
        "a=dataaa[:,2]\n",
        "smoother.smooth(a)\n",
        "dataaa[:,2]=smoother.smooth_data\n",
        "\n",
        "a=dataaa[:,3]\n",
        "smoother.smooth(a)\n",
        "dataaa[:,3]=smoother.smooth_data\n",
        "\n",
        "a=dataaa[:,4]\n",
        "smoother.smooth(a)\n",
        "dataaa[:,4]=smoother.smooth_data\n",
        "\n",
        "a=dataaa[:,5]\n",
        "smoother.smooth(a)\n",
        "dataaa[:,5]=smoother.smooth_data\n",
        "\n",
        "a=dataaa[:,6]\n",
        "smoother.smooth(a)\n",
        "dataaa[:,6]=smoother.smooth_data\n",
        "\n",
        "\n",
        "full_data=dataaa\n",
        "\n",
        "# finding total number of days\n",
        "\n",
        "data=dataaa\n",
        "\n",
        "\n",
        "total_days=data.shape[0]\n",
        "print(total_days)"
      ],
      "execution_count": null,
      "outputs": [
        {
          "output_type": "stream",
          "name": "stdout",
          "text": [
            "         Date      Open  ...  Shanghai Composite Index (SCI)  Hang Seng Index (HSI)\n",
            "0  2003-12-01  1.203398  ...                          1432.7                12457.0\n",
            "1  2003-12-02  1.196101  ...                          1435.3                12412.2\n",
            "2  2003-12-03  1.209000  ...                          1445.0                12361.2\n",
            "3  2003-12-04  1.212004  ...                          1452.8                12342.7\n",
            "4  2003-12-05  1.207802  ...                          1451.1                12314.7\n",
            "\n",
            "[5 rows x 9 columns]\n",
            "Index(['Date', 'Open', 'High', 'Low', 'Close', 'Nasdaq Index (NI)',\n",
            "       'Dow-Jones  Industrial \\nAverage (DJIA)',\n",
            "       'Shanghai Composite Index (SCI)', 'Hang Seng Index (HSI)'],\n",
            "      dtype='object')\n"
          ]
        },
        {
          "output_type": "stream",
          "name": "stderr",
          "text": [
            "/usr/local/lib/python3.7/dist-packages/pandas/core/frame.py:3069: SettingWithCopyWarning: \n",
            "A value is trying to be set on a copy of a slice from a DataFrame.\n",
            "Try using .loc[row_indexer,col_indexer] = value instead\n",
            "\n",
            "See the caveats in the documentation: https://pandas.pydata.org/pandas-docs/stable/user_guide/indexing.html#returning-a-view-versus-a-copy\n",
            "  self[k1] = value[k2]\n"
          ]
        },
        {
          "output_type": "stream",
          "name": "stdout",
          "text": [
            "4652\n"
          ]
        }
      ]
    },
    {
      "cell_type": "code",
      "metadata": {
        "id": "c0BLhC-3tHjc"
      },
      "source": [
        "training_period_dates=dates.loc[:int(full_data.shape[0]*1)]\n",
        "#testing_period_dates=dates.loc[int(full_data.shape[0]*0.9):]"
      ],
      "execution_count": null,
      "outputs": []
    },
    {
      "cell_type": "code",
      "metadata": {
        "colab": {
          "base_uri": "https://localhost:8080/"
        },
        "id": "t9q5UB4fGbUM",
        "outputId": "dc295776-ae7f-43bf-d498-b9a29aa82881"
      },
      "source": [
        "total_days=data.shape[0]\n",
        "\n",
        "timesteps=10\n",
        "\n",
        "Train_data=data[:round(total_days*1),:]\n",
        "#Test_data=data[round(total_days*0.9):,:]\n",
        "print(Train_data.shape[0],\" Days are used for Training\")\n",
        "#print(Test_data.shape[0],\" Days are used for Testing\")\n",
        "# Function for ordering or making sequence of our test and train data according to date\n",
        "def make_sequence(data,timesteps):\n",
        "    X_train=[]\n",
        "    Y_train=[]\n",
        "    for i in range(len(data)-timesteps):\n",
        "        X_train.append(data[i:(i+timesteps),[0,1,2,4,5,6,7]])\n",
        "        Y_train.append(data[i+timesteps,3])\n",
        "    return X_train,Y_train\n",
        "Train_data,Train_Label=make_sequence(Train_data,timesteps)\n",
        "Train_data,Train_Label=np.array(Train_data),np.array(Train_Label)\n",
        "#Test_data,Test_Label=make_sequence(Test_data,timesteps)\n",
        "#Test_data,Test_Label=np.array(Test_data),np.array(Test_Label)\n",
        "input_shape=((Train_data).shape[1],(Train_data).shape[2])\n",
        "print(input_shape)\n",
        "Train_Label = Train_Label.reshape(-1,1)\n"
      ],
      "execution_count": null,
      "outputs": [
        {
          "output_type": "stream",
          "name": "stdout",
          "text": [
            "4652  Days are used for Training\n",
            "(10, 7)\n"
          ]
        }
      ]
    },
    {
      "cell_type": "code",
      "metadata": {
        "colab": {
          "base_uri": "https://localhost:8080/"
        },
        "id": "BK1i_pLvtTeP",
        "outputId": "7a28c800-fd56-4d22-b36b-460cb379ce99"
      },
      "source": [
        "#model building\n",
        "model=Sequential()\n",
        "print(input_shape)\n",
        "#tf.compat.v1.disable_eager_execution()\n",
        "#adding layers to the model\n",
        "x = Input(shape=input_shape)\n",
        "model.add(Conv1D(32,1,input_shape=input_shape, activation=\"sigmoid\"))\n",
        "model.add(MaxPooling1D(pool_size=1,strides=1))\n",
        "model.add(LSTM(64))\n",
        "\n",
        "y=Dense(1)(x)\n",
        "model.add(Dense(1))\n",
        "\n",
        "print(model.summary())"
      ],
      "execution_count": null,
      "outputs": [
        {
          "output_type": "stream",
          "name": "stdout",
          "text": [
            "(10, 7)\n",
            "Model: \"sequential\"\n",
            "_________________________________________________________________\n",
            "Layer (type)                 Output Shape              Param #   \n",
            "=================================================================\n",
            "conv1d (Conv1D)              (None, 10, 32)            256       \n",
            "_________________________________________________________________\n",
            "max_pooling1d (MaxPooling1D) (None, 10, 32)            0         \n",
            "_________________________________________________________________\n",
            "lstm (LSTM)                  (None, 64)                24832     \n",
            "_________________________________________________________________\n",
            "dense_1 (Dense)              (None, 1)                 65        \n",
            "=================================================================\n",
            "Total params: 25,153\n",
            "Trainable params: 25,153\n",
            "Non-trainable params: 0\n",
            "_________________________________________________________________\n",
            "None\n"
          ]
        }
      ]
    },
    {
      "cell_type": "code",
      "metadata": {
        "colab": {
          "base_uri": "https://localhost:8080/"
        },
        "id": "35X9wJfR1-d4",
        "outputId": "a4c6c284-8289-4ba3-a5a0-0bcb9901c4d3"
      },
      "source": [
        "#compiling model\n",
        "lr=0.001\n",
        "mae = tf.keras.losses.MeanAbsoluteError()\n",
        "model.compile(optimizer = optimizers.Adam(learning_rate= lr), loss = mae)\n",
        "#fitting model\n",
        "history=model.fit(Train_data,Train_Label,batch_size=60,epochs=50)"
      ],
      "execution_count": null,
      "outputs": [
        {
          "output_type": "stream",
          "name": "stdout",
          "text": [
            "Epoch 1/50\n",
            "78/78 [==============================] - 4s 17ms/step - loss: 0.1484\n",
            "Epoch 2/50\n",
            "78/78 [==============================] - 1s 17ms/step - loss: 0.0372\n",
            "Epoch 3/50\n",
            "78/78 [==============================] - 1s 17ms/step - loss: 0.0298\n",
            "Epoch 4/50\n",
            "78/78 [==============================] - 1s 17ms/step - loss: 0.0209\n",
            "Epoch 5/50\n",
            "78/78 [==============================] - 1s 16ms/step - loss: 0.0219\n",
            "Epoch 6/50\n",
            "78/78 [==============================] - 1s 17ms/step - loss: 0.0204\n",
            "Epoch 7/50\n",
            "78/78 [==============================] - 1s 17ms/step - loss: 0.0183\n",
            "Epoch 8/50\n",
            "78/78 [==============================] - 1s 17ms/step - loss: 0.0205\n",
            "Epoch 9/50\n",
            "78/78 [==============================] - 1s 17ms/step - loss: 0.0183\n",
            "Epoch 10/50\n",
            "78/78 [==============================] - 1s 17ms/step - loss: 0.0171\n",
            "Epoch 11/50\n",
            "78/78 [==============================] - 1s 17ms/step - loss: 0.0171\n",
            "Epoch 12/50\n",
            "78/78 [==============================] - 1s 17ms/step - loss: 0.0144\n",
            "Epoch 13/50\n",
            "78/78 [==============================] - 1s 17ms/step - loss: 0.0163\n",
            "Epoch 14/50\n",
            "78/78 [==============================] - 1s 17ms/step - loss: 0.0130\n",
            "Epoch 15/50\n",
            "78/78 [==============================] - 1s 16ms/step - loss: 0.0133\n",
            "Epoch 16/50\n",
            "78/78 [==============================] - 1s 17ms/step - loss: 0.0146\n",
            "Epoch 17/50\n",
            "78/78 [==============================] - 1s 17ms/step - loss: 0.0166\n",
            "Epoch 18/50\n",
            "78/78 [==============================] - 1s 17ms/step - loss: 0.0128\n",
            "Epoch 19/50\n",
            "78/78 [==============================] - 1s 18ms/step - loss: 0.0110\n",
            "Epoch 20/50\n",
            "78/78 [==============================] - 1s 17ms/step - loss: 0.0092\n",
            "Epoch 21/50\n",
            "78/78 [==============================] - 1s 17ms/step - loss: 0.0102\n",
            "Epoch 22/50\n",
            "78/78 [==============================] - 1s 17ms/step - loss: 0.0111\n",
            "Epoch 23/50\n",
            "78/78 [==============================] - 1s 17ms/step - loss: 0.0107\n",
            "Epoch 24/50\n",
            "78/78 [==============================] - 1s 17ms/step - loss: 0.0114\n",
            "Epoch 25/50\n",
            "78/78 [==============================] - 1s 16ms/step - loss: 0.0090\n",
            "Epoch 26/50\n",
            "78/78 [==============================] - 1s 17ms/step - loss: 0.0097\n",
            "Epoch 27/50\n",
            "78/78 [==============================] - 1s 17ms/step - loss: 0.0095\n",
            "Epoch 28/50\n",
            "78/78 [==============================] - 1s 17ms/step - loss: 0.0074\n",
            "Epoch 29/50\n",
            "78/78 [==============================] - 1s 16ms/step - loss: 0.0086\n",
            "Epoch 30/50\n",
            "78/78 [==============================] - 1s 17ms/step - loss: 0.0087\n",
            "Epoch 31/50\n",
            "78/78 [==============================] - 1s 17ms/step - loss: 0.0089\n",
            "Epoch 32/50\n",
            "78/78 [==============================] - 1s 17ms/step - loss: 0.0108\n",
            "Epoch 33/50\n",
            "78/78 [==============================] - 1s 17ms/step - loss: 0.0075\n",
            "Epoch 34/50\n",
            "78/78 [==============================] - 1s 17ms/step - loss: 0.0092\n",
            "Epoch 35/50\n",
            "78/78 [==============================] - 1s 17ms/step - loss: 0.0107\n",
            "Epoch 36/50\n",
            "78/78 [==============================] - 1s 17ms/step - loss: 0.0075\n",
            "Epoch 37/50\n",
            "78/78 [==============================] - 1s 16ms/step - loss: 0.0072\n",
            "Epoch 38/50\n",
            "78/78 [==============================] - 1s 18ms/step - loss: 0.0083\n",
            "Epoch 39/50\n",
            "78/78 [==============================] - 1s 18ms/step - loss: 0.0074\n",
            "Epoch 40/50\n",
            "78/78 [==============================] - 1s 17ms/step - loss: 0.0067\n",
            "Epoch 41/50\n",
            "78/78 [==============================] - 1s 17ms/step - loss: 0.0064\n",
            "Epoch 42/50\n",
            "78/78 [==============================] - 1s 17ms/step - loss: 0.0078\n",
            "Epoch 43/50\n",
            "78/78 [==============================] - 1s 17ms/step - loss: 0.0067\n",
            "Epoch 44/50\n",
            "78/78 [==============================] - 1s 17ms/step - loss: 0.0070\n",
            "Epoch 45/50\n",
            "78/78 [==============================] - 1s 17ms/step - loss: 0.0065\n",
            "Epoch 46/50\n",
            "78/78 [==============================] - 1s 17ms/step - loss: 0.0074\n",
            "Epoch 47/50\n",
            "78/78 [==============================] - 1s 17ms/step - loss: 0.0054\n",
            "Epoch 48/50\n",
            "78/78 [==============================] - 1s 17ms/step - loss: 0.0072\n",
            "Epoch 49/50\n",
            "78/78 [==============================] - 1s 17ms/step - loss: 0.0088\n",
            "Epoch 50/50\n",
            "78/78 [==============================] - 1s 17ms/step - loss: 0.0091\n"
          ]
        }
      ]
    },
    {
      "cell_type": "code",
      "metadata": {
        "colab": {
          "base_uri": "https://localhost:8080/"
        },
        "id": "-0ewV18SuMkj",
        "outputId": "63f65472-29db-4bd0-f1ea-01915cf61c16"
      },
      "source": [
        "#predicting values from our model of test data\n",
        "Test_Predicted_Label=model.predict(Train_data)\n",
        "print(Test_Predicted_Label.shape)\n",
        "print(Test_Predicted_Label)\n",
        "Test_Label = Train_Label.reshape(Train_Label.shape[0],1)\n",
        "y_hat_test = Close.inverse_transform(Test_Predicted_Label)\n",
        "#y_test = Close.inverse_transform(Test_Label)\n",
        "np.savetxt(\"predicted.csv\", y_hat_test, delimiter=\",\")"
      ],
      "execution_count": null,
      "outputs": [
        {
          "output_type": "stream",
          "name": "stdout",
          "text": [
            "(4642, 1)\n",
            "[[0.33036584]\n",
            " [0.33557677]\n",
            " [0.34252748]\n",
            " ...\n",
            " [0.22993915]\n",
            " [0.22963408]\n",
            " [0.22852671]]\n"
          ]
        }
      ]
    }
  ]
}