{
  "nbformat": 4,
  "nbformat_minor": 0,
  "metadata": {
    "colab": {
      "name": "Proceedit 10262021 CNN_TLSTM.ipynb",
      "provenance": []
    },
    "kernelspec": {
      "name": "python3",
      "display_name": "Python 3"
    },
    "language_info": {
      "name": "python"
    }
  },
  "cells": [
    {
      "cell_type": "code",
      "metadata": {
        "id": "01TQOeK5gjgb"
      },
      "source": [
        "import os \n",
        "from google.colab import drive"
      ],
      "execution_count": null,
      "outputs": []
    },
    {
      "cell_type": "code",
      "metadata": {
        "colab": {
          "base_uri": "https://localhost:8080/"
        },
        "id": "gAY_l_XfqoN8",
        "outputId": "a7668f27-6e2e-413e-f3ae-039d229cc301"
      },
      "source": [
        "!pip install tsmoothie"
      ],
      "execution_count": null,
      "outputs": [
        {
          "output_type": "stream",
          "name": "stdout",
          "text": [
            "Collecting tsmoothie\n",
            "  Downloading tsmoothie-1.0.4-py3-none-any.whl (21 kB)\n",
            "Requirement already satisfied: numpy in /usr/local/lib/python3.7/dist-packages (from tsmoothie) (1.19.5)\n",
            "Requirement already satisfied: scipy in /usr/local/lib/python3.7/dist-packages (from tsmoothie) (1.4.1)\n",
            "Collecting simdkalman\n",
            "  Downloading simdkalman-1.0.2-py2.py3-none-any.whl (11 kB)\n",
            "Installing collected packages: simdkalman, tsmoothie\n",
            "Successfully installed simdkalman-1.0.2 tsmoothie-1.0.4\n"
          ]
        }
      ]
    },
    {
      "cell_type": "code",
      "metadata": {
        "id": "GouJdy_tqp0P"
      },
      "source": [
        "import numpy as np\n",
        "import numpy as np\n",
        "import pandas as pd \n",
        "import matplotlib.pyplot as plt\n",
        "import tensorflow as tf\n",
        "import tsmoothie\n",
        "from tensorflow.keras.models import Sequential,load_model\n",
        "from tensorflow.keras.layers import Dense, Conv1D,Input\n",
        "from tensorflow.keras.layers import Bidirectional\n",
        "from tensorflow.keras.layers import Dropout\n",
        "from sklearn.decomposition import PCA\n",
        "from tensorflow.keras import optimizers\n",
        "from sklearn.preprocessing import MinMaxScaler\n",
        "import sklearn\n",
        "from sklearn.metrics import mean_squared_error,r2_score\n",
        "%matplotlib inline"
      ],
      "execution_count": null,
      "outputs": []
    },
    {
      "cell_type": "code",
      "metadata": {
        "id": "8jBXi77GM2oC"
      },
      "source": [
        "from TLSTM import TLSTM"
      ],
      "execution_count": null,
      "outputs": []
    },
    {
      "cell_type": "code",
      "metadata": {
        "id": "SaAhmUUGqyNw"
      },
      "source": [
        "#LSTM=tf.compat.v1.keras.layers.CuDNNLSTM \n",
        "LSTM = tf.compat.v1.keras.layers.LSTM\n",
        "GRU = tf.compat.v1.keras.layers.GRU\n",
        "#GRU = tf.compat.v1.keras.layers.CuDNNGRU\n",
        "a=tf.compat.v1.keras.layers.CuDNNLSTM\n",
        "smoother=tsmoothie.KalmanSmoother(component='level_trend',  component_noise={'level':0.1, 'trend':0.1})"
      ],
      "execution_count": null,
      "outputs": []
    },
    {
      "cell_type": "code",
      "metadata": {
        "id": "4dxX3HWdq-Kk"
      },
      "source": [
        "data_path = \"CNN_TLSTM dataset.csv\""
      ],
      "execution_count": null,
      "outputs": []
    },
    {
      "cell_type": "code",
      "metadata": {
        "colab": {
          "base_uri": "https://localhost:8080/"
        },
        "id": "RzZ8oALorMW7",
        "outputId": "c51cccbd-715b-4ea9-cde0-830077730095"
      },
      "source": [
        "# loading data\n",
        "\n",
        "data_1=pd.read_csv(data_path)\n",
        "print(data_1.head())\n",
        "print(data_1.columns)\n",
        "data=data_1[['Open','High',\n",
        "             'Low','Close','Nasdaq Index (NI)',\n",
        "             'Dow-Jones  Industrial \\nAverage (DJIA)',\n",
        "             'Shanghai Composite Index (SCI)',\n",
        "             'Hang Seng Index (HSI)']]\n",
        "dates=data_1[['Date']]\n",
        "\n",
        "# normalising data\n",
        "\n",
        "Open=MinMaxScaler()\n",
        "High=MinMaxScaler()\n",
        "Low=MinMaxScaler()\n",
        "Close=MinMaxScaler()\n",
        "Volume=MinMaxScaler()\n",
        "Lowest=MinMaxScaler()\n",
        "\n",
        "dataaa=np.zeros((data.shape),dtype=np.float64)\n",
        "a=Open.fit_transform(data[['Open']])\n",
        "dataaa[:,0] = a[:,0]\n",
        "a=High.fit_transform(data[['High']])\n",
        "dataaa[:,1] = a[:,0]\n",
        "a=Low.fit_transform(data[['Low']])\n",
        "dataaa[:,2] = a[:,0]\n",
        "a=Close.fit_transform(data[['Close']])\n",
        "dataaa[:,3] = a[:,0]\n",
        "a=Volume.fit_transform(data[['Nasdaq Index (NI)']])\n",
        "dataaa[:,4] = a[:,0]\n",
        "a=Lowest.fit_transform(data[['Dow-Jones  Industrial \\nAverage (DJIA)']])\n",
        "dataaa[:,5] = a[:,0]\n",
        "a=Open.fit_transform(data[['Shanghai Composite Index (SCI)']])\n",
        "dataaa[:,6] = a[:,0]\n",
        "a=Open.fit_transform(data[['Hang Seng Index (HSI)']])\n",
        "\n",
        "a=dataaa[:,0]\n",
        "smoother.smooth(a)\n",
        "dataaa[:,0]=smoother.smooth_data\n",
        "\n",
        "a=dataaa[:,1]\n",
        "smoother.smooth(a)\n",
        "dataaa[:,1]=smoother.smooth_data\n",
        "\n",
        "a=dataaa[:,2]\n",
        "smoother.smooth(a)\n",
        "dataaa[:,2]=smoother.smooth_data\n",
        "\n",
        "a=dataaa[:,3]\n",
        "smoother.smooth(a)\n",
        "dataaa[:,3]=smoother.smooth_data\n",
        "\n",
        "a=dataaa[:,4]\n",
        "smoother.smooth(a)\n",
        "dataaa[:,4]=smoother.smooth_data\n",
        "\n",
        "a=dataaa[:,5]\n",
        "smoother.smooth(a)\n",
        "dataaa[:,5]=smoother.smooth_data\n",
        "\n",
        "a=dataaa[:,6]\n",
        "smoother.smooth(a)\n",
        "dataaa[:,6]=smoother.smooth_data\n",
        "\n",
        "\n",
        "full_data=dataaa\n",
        "\n",
        "# finding total number of days\n",
        "\n",
        "data=dataaa\n",
        "\n",
        "\n",
        "total_days=data.shape[0]\n",
        "print(total_days)"
      ],
      "execution_count": null,
      "outputs": [
        {
          "output_type": "stream",
          "name": "stdout",
          "text": [
            "         Date      Open  ...  Shanghai Composite Index (SCI)  Hang Seng Index (HSI)\n",
            "0  2003-12-01  1.203398  ...                          1432.7                12457.0\n",
            "1  2003-12-02  1.196101  ...                          1435.3                12412.2\n",
            "2  2003-12-03  1.209000  ...                          1445.0                12361.2\n",
            "3  2003-12-04  1.212004  ...                          1452.8                12342.7\n",
            "4  2003-12-05  1.207802  ...                          1451.1                12314.7\n",
            "\n",
            "[5 rows x 9 columns]\n",
            "Index(['Date', 'Open', 'High', 'Low', 'Close', 'Nasdaq Index (NI)',\n",
            "       'Dow-Jones  Industrial \\nAverage (DJIA)',\n",
            "       'Shanghai Composite Index (SCI)', 'Hang Seng Index (HSI)'],\n",
            "      dtype='object')\n",
            "4652\n"
          ]
        }
      ]
    },
    {
      "cell_type": "code",
      "metadata": {
        "id": "c0BLhC-3tHjc"
      },
      "source": [
        "training_period_dates=dates.loc[:int(full_data.shape[0]*1)]\n",
        "#testing_period_dates=dates.loc[int(full_data.shape[0]*0.9):]"
      ],
      "execution_count": null,
      "outputs": []
    },
    {
      "cell_type": "code",
      "metadata": {
        "colab": {
          "base_uri": "https://localhost:8080/"
        },
        "id": "t9q5UB4fGbUM",
        "outputId": "340bfe51-ded2-4ebe-8be0-86077ca8c23a"
      },
      "source": [
        "total_days=data.shape[0]\n",
        "\n",
        "timesteps=5\n",
        "\n",
        "Train_data=data[:round(total_days*1),:]\n",
        "#Test_data=data[round(total_days*0.9):,:]\n",
        "print(Train_data.shape[0],\" Days are used for Training\")\n",
        "#print(Test_data.shape[0],\" Days are used for Testing\")\n",
        "# Function for ordering or making sequence of our test and train data according to date\n",
        "def make_sequence(data,timesteps):\n",
        "    X_train=[]\n",
        "    Y_train=[]\n",
        "    for i in range(len(data)-timesteps):\n",
        "        X_train.append(data[i:(i+timesteps),[0,1,2,4,5,6,7]])\n",
        "        Y_train.append(data[i+timesteps,3])\n",
        "    return X_train,Y_train\n",
        "Train_data,Train_Label=make_sequence(Train_data,timesteps)\n",
        "Train_data,Train_Label=np.array(Train_data),np.array(Train_Label)\n",
        "#Test_data,Test_Label=make_sequence(Test_data,timesteps)\n",
        "#Test_data,Test_Label=np.array(Test_data),np.array(Test_Label)\n",
        "input_shape=((Train_data).shape[1],(Train_data).shape[2])\n",
        "print(input_shape)\n",
        "Train_Label = Train_Label.reshape(-1,1)\n"
      ],
      "execution_count": null,
      "outputs": [
        {
          "output_type": "stream",
          "name": "stdout",
          "text": [
            "4652  Days are used for Training\n",
            "(5, 7)\n"
          ]
        }
      ]
    },
    {
      "cell_type": "code",
      "metadata": {
        "colab": {
          "base_uri": "https://localhost:8080/"
        },
        "id": "35X9wJfR1-d4",
        "outputId": "f49f0de6-16ff-4fbe-a090-dc7a4d07bfc3"
      },
      "source": [
        "#compiling model\n",
        "lr=0.001\n",
        "mae = tf.keras.losses.MeanAbsoluteError()\n",
        "model.compile(optimizer = optimizers.Adam(learning_rate= lr), loss = mae)\n",
        "#fitting model\n",
        "history=model.fit(Train_data,Train_Label,batch_size=60,epochs=50)"
      ],
      "execution_count": null,
      "outputs": [
        {
          "output_type": "stream",
          "name": "stdout",
          "text": [
            "Epoch 1/60\n",
            "128/128 [==============================] - 14s 67ms/step - loss: 0.0039\n",
            "Epoch 2/60\n",
            "128/128 [==============================] - 9s 67ms/step - loss: 4.8198e-04\n",
            "Epoch 3/60\n",
            "128/128 [==============================] - 9s 68ms/step - loss: 4.1844e-04\n",
            "Epoch 4/60\n",
            "128/128 [==============================] - 9s 68ms/step - loss: 4.1596e-04\n",
            "Epoch 5/60\n",
            "128/128 [==============================] - 9s 67ms/step - loss: 2.4331e-04\n",
            "Epoch 6/60\n",
            "128/128 [==============================] - 9s 68ms/step - loss: 1.9086e-04\n",
            "Epoch 7/60\n",
            "128/128 [==============================] - 9s 68ms/step - loss: 1.8562e-04\n",
            "Epoch 8/60\n",
            "128/128 [==============================] - 9s 67ms/step - loss: 1.3219e-04\n",
            "Epoch 9/60\n",
            "128/128 [==============================] - 9s 67ms/step - loss: 1.2021e-04\n",
            "Epoch 10/60\n",
            "128/128 [==============================] - 9s 67ms/step - loss: 1.1121e-04\n",
            "Epoch 11/60\n",
            "128/128 [==============================] - 9s 67ms/step - loss: 9.0183e-05\n",
            "Epoch 12/60\n",
            "128/128 [==============================] - 9s 67ms/step - loss: 1.2010e-04\n",
            "Epoch 13/60\n",
            "128/128 [==============================] - 9s 69ms/step - loss: 7.6009e-05\n",
            "Epoch 14/60\n",
            "128/128 [==============================] - 9s 68ms/step - loss: 5.0464e-05\n",
            "Epoch 15/60\n",
            "128/128 [==============================] - 9s 68ms/step - loss: 5.3369e-05\n",
            "Epoch 16/60\n",
            "128/128 [==============================] - 9s 69ms/step - loss: 4.6063e-05\n",
            "Epoch 17/60\n",
            "128/128 [==============================] - 9s 68ms/step - loss: 4.6734e-05\n",
            "Epoch 18/60\n",
            "128/128 [==============================] - 9s 68ms/step - loss: 3.8832e-05\n",
            "Epoch 19/60\n",
            "128/128 [==============================] - 9s 68ms/step - loss: 3.4772e-05\n",
            "Epoch 20/60\n",
            "128/128 [==============================] - 9s 68ms/step - loss: 2.8582e-05\n",
            "Epoch 21/60\n",
            "128/128 [==============================] - 9s 68ms/step - loss: 5.9845e-05\n",
            "Epoch 22/60\n",
            "128/128 [==============================] - 9s 68ms/step - loss: 2.7413e-05\n",
            "Epoch 23/60\n",
            "128/128 [==============================] - 9s 68ms/step - loss: 2.8647e-05\n",
            "Epoch 24/60\n",
            "128/128 [==============================] - 9s 68ms/step - loss: 2.3315e-05\n",
            "Epoch 25/60\n",
            "128/128 [==============================] - 9s 68ms/step - loss: 2.1850e-05\n",
            "Epoch 26/60\n",
            "128/128 [==============================] - 9s 69ms/step - loss: 4.4165e-05\n",
            "Epoch 27/60\n",
            "128/128 [==============================] - 9s 69ms/step - loss: 2.7915e-05\n",
            "Epoch 28/60\n",
            "128/128 [==============================] - 9s 68ms/step - loss: 2.6104e-05\n",
            "Epoch 29/60\n",
            "128/128 [==============================] - 9s 69ms/step - loss: 2.0552e-05\n",
            "Epoch 30/60\n",
            "128/128 [==============================] - 9s 67ms/step - loss: 2.1634e-05\n",
            "Epoch 31/60\n",
            "128/128 [==============================] - 9s 68ms/step - loss: 1.5085e-05\n",
            "Epoch 32/60\n",
            "128/128 [==============================] - 9s 68ms/step - loss: 2.1829e-05\n",
            "Epoch 33/60\n",
            "128/128 [==============================] - 9s 68ms/step - loss: 3.1068e-05\n",
            "Epoch 34/60\n",
            "128/128 [==============================] - 9s 68ms/step - loss: 1.8864e-05\n",
            "Epoch 35/60\n",
            "128/128 [==============================] - 9s 68ms/step - loss: 1.6962e-05\n",
            "Epoch 36/60\n",
            "128/128 [==============================] - 9s 68ms/step - loss: 2.9899e-05\n",
            "Epoch 37/60\n",
            "128/128 [==============================] - 9s 68ms/step - loss: 1.8837e-05\n",
            "Epoch 38/60\n",
            "128/128 [==============================] - 9s 69ms/step - loss: 1.1489e-05\n",
            "Epoch 39/60\n",
            "128/128 [==============================] - 9s 68ms/step - loss: 1.8106e-05\n",
            "Epoch 40/60\n",
            "128/128 [==============================] - 9s 68ms/step - loss: 2.2291e-05\n",
            "Epoch 41/60\n",
            "128/128 [==============================] - 9s 68ms/step - loss: 2.5024e-05\n",
            "Epoch 42/60\n",
            "128/128 [==============================] - 9s 68ms/step - loss: 2.5542e-05\n",
            "Epoch 43/60\n",
            "128/128 [==============================] - 9s 68ms/step - loss: 3.0904e-05\n",
            "Epoch 44/60\n",
            "128/128 [==============================] - 9s 68ms/step - loss: 3.0974e-05\n",
            "Epoch 45/60\n",
            "128/128 [==============================] - 9s 68ms/step - loss: 1.4768e-05\n",
            "Epoch 46/60\n",
            "128/128 [==============================] - 9s 68ms/step - loss: 1.2399e-05\n",
            "Epoch 47/60\n",
            "128/128 [==============================] - 9s 68ms/step - loss: 1.6400e-05\n",
            "Epoch 48/60\n",
            "128/128 [==============================] - 9s 69ms/step - loss: 2.5021e-05\n",
            "Epoch 49/60\n",
            "128/128 [==============================] - 9s 69ms/step - loss: 1.7011e-05\n",
            "Epoch 50/60\n",
            "128/128 [==============================] - 9s 68ms/step - loss: 1.0636e-05\n",
            "Epoch 51/60\n",
            "128/128 [==============================] - 9s 68ms/step - loss: 2.4726e-05\n",
            "Epoch 52/60\n",
            "128/128 [==============================] - 9s 68ms/step - loss: 1.4492e-05\n",
            "Epoch 53/60\n",
            "128/128 [==============================] - 9s 68ms/step - loss: 1.1899e-05\n",
            "Epoch 54/60\n",
            "128/128 [==============================] - 9s 68ms/step - loss: 1.5008e-05\n",
            "Epoch 55/60\n",
            "128/128 [==============================] - 9s 68ms/step - loss: 1.3289e-05\n",
            "Epoch 56/60\n",
            "128/128 [==============================] - 9s 68ms/step - loss: 1.0475e-05\n",
            "Epoch 57/60\n",
            "128/128 [==============================] - 9s 68ms/step - loss: 3.2434e-05\n",
            "Epoch 58/60\n",
            "128/128 [==============================] - 9s 68ms/step - loss: 1.2451e-05\n",
            "Epoch 59/60\n",
            "128/128 [==============================] - 9s 69ms/step - loss: 1.3027e-05\n",
            "Epoch 60/60\n",
            "128/128 [==============================] - 9s 68ms/step - loss: 1.8774e-05\n"
          ]
        }
      ]
    },
    {
      "cell_type": "code",
      "metadata": {
        "colab": {
          "base_uri": "https://localhost:8080/"
        },
        "id": "-0ewV18SuMkj",
        "outputId": "97f7a8d8-6976-44b8-b8ce-aa374b4089ac"
      },
      "source": [
        "#predicting values from our model of test data\n",
        "Test_Predicted_Label=model.predict(Train_data)\n",
        "print(Test_Predicted_Label.shape)\n",
        "print(Test_Predicted_Label)\n",
        "Test_Label = Train_Label.reshape(Train_Label.shape[0],1)\n",
        "y_hat_test = Close.inverse_transform(Test_Predicted_Label)\n",
        "# Save the predicted values\n",
        "np.savetxt(\"predicted.csv\", y_hat_test, delimiter=\",\")"
      ],
      "execution_count": null,
      "outputs": [
        {
          "output_type": "stream",
          "name": "stdout",
          "text": [
            "(4593, 1)\n",
            "[[0.34392822]\n",
            " [0.34930035]\n",
            " [0.35225567]\n",
            " ...\n",
            " [0.23487885]\n",
            " [0.23384579]\n",
            " [0.2318861 ]]\n"
          ]
        }
      ]
    }
  ]
}